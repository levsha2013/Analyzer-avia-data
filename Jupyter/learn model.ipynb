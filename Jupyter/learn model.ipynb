{
 "cells": [
  {
   "cell_type": "markdown",
   "id": "b4568580",
   "metadata": {},
   "source": [
    "# Построение модели (CatBoostClassifier+optuna)"
   ]
  },
  {
   "cell_type": "markdown",
   "id": "9aeefa6c",
   "metadata": {},
   "source": [
    "### ВАЖНО:\n",
    "Для подбора гиперпараметров использовалась optuna, реализующая баесовский поиск оптимальных параметров по метрике\n",
    "\n",
    "При обучении минимизировалась кросэнтропия в бинарном признаке satisfaction (параметр loss_function)\n",
    "\n",
    "Обучение проводилось с помощью стратифицированной кросс-валидации и усредненной оценки f1-score\n",
    "\n",
    "В данном notebook представлен код для подбора как через cpu, так и через gpu\n"
   ]
  },
  {
   "cell_type": "code",
   "execution_count": 1,
   "id": "6dd3ed7b",
   "metadata": {},
   "outputs": [],
   "source": [
    "import time\n",
    "from catboost import CatBoostClassifier\n",
    "import pandas as pd\n",
    "import matplotlib.pyplot as plt\n",
    "\n",
    "import optuna\n",
    "from optuna.visualization import plot_slice\n",
    "\n",
    "from sklearn.model_selection import train_test_split, StratifiedKFold, cross_val_score, cross_val_predict\n",
    "from sklearn.metrics import f1_score, roc_auc_score, classification_report"
   ]
  },
  {
   "cell_type": "code",
   "execution_count": 2,
   "id": "765436fa",
   "metadata": {},
   "outputs": [],
   "source": [
    "RANDOM_STATE = 42"
   ]
  },
  {
   "cell_type": "code",
   "execution_count": 3,
   "id": "096f69c1",
   "metadata": {},
   "outputs": [],
   "source": [
    "df_prep_fact = pd.read_csv('../data/pilot_prep_factor.csv')\n",
    "\n",
    "# перевод столбцов с вариантами ответа в uint8 для передачи в catboost как категориальных фичей\n",
    "for name_col in ['комфорт, еда, развлечения', 'сервис/обслуживание', 'интернет сервис', 'основные функции']:\n",
    "    df_prep_fact[name_col] = df_prep_fact[name_col].astype('uint8')\n",
    "    \n",
    "y = df_prep_fact['satisfaction']\n",
    "X = df_prep_fact.drop(columns = ['satisfaction'])"
   ]
  },
  {
   "cell_type": "code",
   "execution_count": 4,
   "id": "2e3acbf8",
   "metadata": {
    "scrolled": false
   },
   "outputs": [
    {
     "data": {
      "text/plain": [
       "0    57802\n",
       "1    44237\n",
       "Name: satisfaction, dtype: int64"
      ]
     },
     "execution_count": 4,
     "metadata": {},
     "output_type": "execute_result"
    }
   ],
   "source": [
    "# проверка на дисбалланс классов - особой нет, но лучше все равно использовать не accuracy\n",
    "y.value_counts()"
   ]
  },
  {
   "cell_type": "markdown",
   "id": "ad037e94",
   "metadata": {},
   "source": [
    "## Через CPU и мультипроцессинг optuna"
   ]
  },
  {
   "cell_type": "code",
   "execution_count": 7,
   "id": "44523e57",
   "metadata": {},
   "outputs": [],
   "source": [
    "def objective(trial):\n",
    "    depth = trial.suggest_int('depth', 2, 10)\n",
    "    n_estimators = trial.suggest_int('n_estimators', 20, 300, step=5)\n",
    "    l2_leaf_reg = trial.suggest_float('l2_leaf_reg', 0.01, 0.9, step=0.01)\n",
    "    learning_rate = trial.suggest_float('learning_rate', 0.01, 0.9, step=0.01)\n",
    "    \n",
    "    loss_function = 'CrossEntropy'\n",
    "    cat_features = ['gender', 'customer_type', 'type_of_travel', 'class']\n",
    "    cat_features.extend(['комфорт, еда, развлечения', 'сервис/обслуживание', 'интернет сервис', 'основные функции'])\n",
    "    \n",
    "    params = {\n",
    "        'depth': depth,\n",
    "        'n_estimators': n_estimators,   \n",
    "        'l2_leaf_reg': l2_leaf_reg,\n",
    "        'learning_rate': learning_rate,\n",
    "        \n",
    "        'loss_function': loss_function,\n",
    "        'cat_features': cat_features,\n",
    "        'random_state': RANDOM_STATE,\n",
    "        'verbose': 0\n",
    "    }\n",
    "    \n",
    "    model = CatBoostClassifier(**params)\n",
    "    skf = StratifiedKFold(n_splits=3, shuffle=True, random_state=RANDOM_STATE)\n",
    "    pred = cross_val_predict(model, X, y, cv=skf)\n",
    "    \n",
    "    result = f1_score(y, pred)\n",
    "    return result    "
   ]
  },
  {
   "cell_type": "code",
   "execution_count": 8,
   "id": "bab53e3f",
   "metadata": {
    "collapsed": true
   },
   "outputs": [
    {
     "name": "stderr",
     "output_type": "stream",
     "text": [
      "[I 2024-01-21 01:39:35,768] A new study created in memory with name: no-name-861ec8ac-99d1-4341-b73b-ffe83cda7b05\n",
      "[I 2024-01-21 01:39:39,138] Trial 2 finished with value: 0.8663107783324089 and parameters: {'depth': 2, 'n_estimators': 30, 'l2_leaf_reg': 0.62, 'learning_rate': 0.8}. Best is trial 2 with value: 0.8663107783324089.\n",
      "[I 2024-01-21 01:39:55,478] Trial 1 finished with value: 0.8805053234485786 and parameters: {'depth': 4, 'n_estimators': 195, 'l2_leaf_reg': 0.12, 'learning_rate': 0.59}. Best is trial 1 with value: 0.8805053234485786.\n",
      "[I 2024-01-21 01:40:03,403] Trial 3 finished with value: 0.8759477821318432 and parameters: {'depth': 2, 'n_estimators': 210, 'l2_leaf_reg': 0.67, 'learning_rate': 0.8300000000000001}. Best is trial 1 with value: 0.8805053234485786.\n",
      "[I 2024-01-21 01:41:14,360] Trial 4 finished with value: 0.8528473595756115 and parameters: {'depth': 10, 'n_estimators': 240, 'l2_leaf_reg': 0.28, 'learning_rate': 0.8400000000000001}. Best is trial 1 with value: 0.8805053234485786.\n",
      "[I 2024-01-21 01:41:19,480] Trial 0 finished with value: 0.8707982106098416 and parameters: {'depth': 10, 'n_estimators': 260, 'l2_leaf_reg': 0.78, 'learning_rate': 0.33}. Best is trial 1 with value: 0.8805053234485786.\n"
     ]
    },
    {
     "name": "stdout",
     "output_type": "stream",
     "text": [
      "103.71\n"
     ]
    }
   ],
   "source": [
    "study = optuna.create_study(direction='maximize')\n",
    "study.optimize(objective, n_trials=100, n_jobs=-1)"
   ]
  },
  {
   "cell_type": "markdown",
   "id": "ba5aa1ac",
   "metadata": {},
   "source": [
    "## Через GPU и 85% загрузку его"
   ]
  },
  {
   "cell_type": "code",
   "execution_count": 13,
   "id": "b8171822",
   "metadata": {},
   "outputs": [],
   "source": [
    "def objective_gpu(trial):\n",
    "    depth = trial.suggest_int('depth', 10, 16)\n",
    "    n_estimators = trial.suggest_int('n_estimators', 20, 200, step=1)\n",
    "    l2_leaf_reg = trial.suggest_float('l2_leaf_reg', 0.01, 0.9, step=0.01)\n",
    "    learning_rate = trial.suggest_float('learning_rate', 0.001, 0.05, step=0.0001)\n",
    "    \n",
    "    loss_function = 'CrossEntropy'\n",
    "    cat_features = ['gender', 'customer_type', 'type_of_travel', 'class']\n",
    "    # cat_features.extend(['комфорт, еда, развлечения', 'сервис/обслуживание', 'интернет сервис', 'основные функции'])\n",
    "    \n",
    "    params = {\n",
    "        'depth': depth,\n",
    "        'n_estimators': n_estimators,   \n",
    "        'l2_leaf_reg': l2_leaf_reg,\n",
    "        'learning_rate': learning_rate,\n",
    "        \n",
    "        'loss_function': loss_function,\n",
    "        'cat_features': cat_features,\n",
    "        'random_state': RANDOM_STATE,\n",
    "        'task_type': 'GPU',\n",
    "        'gpu_ram_part': 0.85,\n",
    "        \n",
    "        'verbose': 0\n",
    "    }\n",
    "    \n",
    "    model = CatBoostClassifier(**params)\n",
    "    skf = StratifiedKFold(n_splits=3, shuffle=True, random_state=RANDOM_STATE)\n",
    "    pred = cross_val_predict(model, X, y, cv=skf)\n",
    "    \n",
    "    result = f1_score(y, pred)\n",
    "    return result    "
   ]
  },
  {
   "cell_type": "code",
   "execution_count": 23,
   "id": "5e5f9961",
   "metadata": {
    "scrolled": true
   },
   "outputs": [
    {
     "name": "stderr",
     "output_type": "stream",
     "text": [
      "[I 2024-01-21 01:47:55,556] A new study created in memory with name: no-name-7b28e2e7-6cd4-4d79-b01c-b1304282e63f\n",
      "[I 2024-01-21 01:48:19,727] Trial 0 finished with value: 0.871788392846888 and parameters: {'depth': 7, 'n_estimators': 280, 'l2_leaf_reg': 0.5800000000000001, 'learning_rate': 0.63}. Best is trial 0 with value: 0.871788392846888.\n",
      "[I 2024-01-21 01:48:22,245] Trial 1 finished with value: 0.881171789400842 and parameters: {'depth': 5, 'n_estimators': 55, 'l2_leaf_reg': 0.48000000000000004, 'learning_rate': 0.68}. Best is trial 1 with value: 0.881171789400842.\n",
      "[I 2024-01-21 01:48:29,247] Trial 2 finished with value: 0.8758482666605324 and parameters: {'depth': 10, 'n_estimators': 135, 'l2_leaf_reg': 0.31, 'learning_rate': 0.42000000000000004}. Best is trial 1 with value: 0.881171789400842.\n",
      "[I 2024-01-21 01:48:31,703] Trial 3 finished with value: 0.761172627198137 and parameters: {'depth': 7, 'n_estimators': 40, 'l2_leaf_reg': 0.03, 'learning_rate': 0.01}. Best is trial 1 with value: 0.881171789400842.\n",
      "[I 2024-01-21 01:48:33,687] Trial 4 finished with value: 0.8692595847014754 and parameters: {'depth': 2, 'n_estimators': 40, 'l2_leaf_reg': 0.43, 'learning_rate': 0.89}. Best is trial 1 with value: 0.881171789400842.\n",
      "[I 2024-01-21 01:49:06,637] Trial 5 finished with value: 0.8569235527958848 and parameters: {'depth': 9, 'n_estimators': 240, 'l2_leaf_reg': 0.22, 'learning_rate': 0.74}. Best is trial 1 with value: 0.881171789400842.\n",
      "[I 2024-01-21 01:49:16,610] Trial 6 finished with value: 0.8753103320262652 and parameters: {'depth': 2, 'n_estimators': 300, 'l2_leaf_reg': 0.04, 'learning_rate': 0.8300000000000001}. Best is trial 1 with value: 0.881171789400842.\n",
      "[I 2024-01-21 01:49:19,474] Trial 7 finished with value: 0.8803693017888055 and parameters: {'depth': 7, 'n_estimators': 55, 'l2_leaf_reg': 0.3, 'learning_rate': 0.85}. Best is trial 1 with value: 0.881171789400842.\n",
      "[I 2024-01-21 01:49:29,285] Trial 8 finished with value: 0.8764443003681663 and parameters: {'depth': 3, 'n_estimators': 230, 'l2_leaf_reg': 0.16, 'learning_rate': 0.09}. Best is trial 1 with value: 0.881171789400842.\n",
      "[I 2024-01-21 01:49:33,916] Trial 9 finished with value: 0.8818715077322575 and parameters: {'depth': 10, 'n_estimators': 75, 'l2_leaf_reg': 0.46, 'learning_rate': 0.23}. Best is trial 9 with value: 0.8818715077322575.\n",
      "[I 2024-01-21 01:49:39,505] Trial 10 finished with value: 0.881717202041429 and parameters: {'depth': 9, 'n_estimators': 125, 'l2_leaf_reg': 0.85, 'learning_rate': 0.26}. Best is trial 9 with value: 0.8818715077322575.\n",
      "[I 2024-01-21 01:49:46,142] Trial 11 finished with value: 0.8816916055231382 and parameters: {'depth': 10, 'n_estimators': 125, 'l2_leaf_reg': 0.86, 'learning_rate': 0.25}. Best is trial 9 with value: 0.8818715077322575.\n",
      "[I 2024-01-21 01:49:50,563] Trial 12 finished with value: 0.8819043430965249 and parameters: {'depth': 9, 'n_estimators': 90, 'l2_leaf_reg': 0.8400000000000001, 'learning_rate': 0.29000000000000004}. Best is trial 12 with value: 0.8819043430965249.\n",
      "[I 2024-01-21 01:49:55,029] Trial 13 finished with value: 0.8812482675783054 and parameters: {'depth': 9, 'n_estimators': 90, 'l2_leaf_reg': 0.7000000000000001, 'learning_rate': 0.38}. Best is trial 12 with value: 0.8819043430965249.\n",
      "[I 2024-01-21 01:49:59,747] Trial 14 finished with value: 0.881443896109914 and parameters: {'depth': 5, 'n_estimators': 180, 'l2_leaf_reg': 0.7000000000000001, 'learning_rate': 0.22}. Best is trial 12 with value: 0.8819043430965249.\n",
      "[I 2024-01-21 01:50:03,747] Trial 15 finished with value: 0.8802577039867915 and parameters: {'depth': 8, 'n_estimators': 90, 'l2_leaf_reg': 0.7100000000000001, 'learning_rate': 0.55}. Best is trial 12 with value: 0.8819043430965249.\n",
      "[I 2024-01-21 01:50:08,773] Trial 16 finished with value: 0.8822382621208253 and parameters: {'depth': 10, 'n_estimators': 85, 'l2_leaf_reg': 0.5700000000000001, 'learning_rate': 0.15000000000000002}. Best is trial 16 with value: 0.8822382621208253.\n",
      "[I 2024-01-21 01:50:14,964] Trial 17 finished with value: 0.882252164652498 and parameters: {'depth': 8, 'n_estimators': 170, 'l2_leaf_reg': 0.6, 'learning_rate': 0.15000000000000002}. Best is trial 17 with value: 0.882252164652498.\n",
      "[I 2024-01-21 01:50:21,722] Trial 18 finished with value: 0.8827215549094785 and parameters: {'depth': 8, 'n_estimators': 190, 'l2_leaf_reg': 0.56, 'learning_rate': 0.12}. Best is trial 18 with value: 0.8827215549094785.\n",
      "[I 2024-01-21 01:50:26,861] Trial 19 finished with value: 0.8604224479966974 and parameters: {'depth': 6, 'n_estimators': 170, 'l2_leaf_reg': 0.5800000000000001, 'learning_rate': 0.02}. Best is trial 18 with value: 0.8827215549094785.\n",
      "[I 2024-01-21 01:50:48,194] Trial 20 finished with value: 0.8816743496490537 and parameters: {'depth': 8, 'n_estimators': 200, 'l2_leaf_reg': 0.4, 'learning_rate': 0.12}. Best is trial 18 with value: 0.8827215549094785.\n",
      "[I 2024-01-21 01:51:09,943] Trial 21 finished with value: 0.8812348513841051 and parameters: {'depth': 8, 'n_estimators': 205, 'l2_leaf_reg': 0.5700000000000001, 'learning_rate': 0.14}. Best is trial 18 with value: 0.8827215549094785.\n",
      "[I 2024-01-21 01:51:14,471] Trial 22 finished with value: 0.8814849961231788 and parameters: {'depth': 6, 'n_estimators': 145, 'l2_leaf_reg': 0.61, 'learning_rate': 0.36000000000000004}. Best is trial 18 with value: 0.8827215549094785.\n",
      "[I 2024-01-21 01:51:20,326] Trial 23 finished with value: 0.8822326226382389 and parameters: {'depth': 8, 'n_estimators': 160, 'l2_leaf_reg': 0.51, 'learning_rate': 0.16}. Best is trial 18 with value: 0.8827215549094785.\n",
      "[I 2024-01-21 01:52:03,678] Trial 24 finished with value: 0.8637476578575287 and parameters: {'depth': 10, 'n_estimators': 230, 'l2_leaf_reg': 0.65, 'learning_rate': 0.5}. Best is trial 18 with value: 0.8827215549094785.\n",
      "[I 2024-01-21 01:52:16,342] Trial 25 finished with value: 0.8812266753204608 and parameters: {'depth': 5, 'n_estimators': 200, 'l2_leaf_reg': 0.78, 'learning_rate': 0.32}. Best is trial 18 with value: 0.8827215549094785.\n",
      "[I 2024-01-21 01:52:38,082] Trial 26 finished with value: 0.8817284237425949 and parameters: {'depth': 7, 'n_estimators': 255, 'l2_leaf_reg': 0.52, 'learning_rate': 0.060000000000000005}. Best is trial 18 with value: 0.8827215549094785.\n",
      "[I 2024-01-21 01:52:44,709] Trial 27 finished with value: 0.8824439824439824 and parameters: {'depth': 9, 'n_estimators': 155, 'l2_leaf_reg': 0.37, 'learning_rate': 0.18000000000000002}. Best is trial 18 with value: 0.8827215549094785.\n",
      "[I 2024-01-21 01:52:51,402] Trial 28 finished with value: 0.8819532073025318 and parameters: {'depth': 8, 'n_estimators': 185, 'l2_leaf_reg': 0.36000000000000004, 'learning_rate': 0.19}. Best is trial 18 with value: 0.8827215549094785.\n",
      "[I 2024-01-21 01:52:55,571] Trial 29 finished with value: 0.8768871523362541 and parameters: {'depth': 7, 'n_estimators': 110, 'l2_leaf_reg': 0.2, 'learning_rate': 0.05}. Best is trial 18 with value: 0.8827215549094785.\n",
      "[I 2024-01-21 01:53:02,269] Trial 30 finished with value: 0.8768471773405246 and parameters: {'depth': 9, 'n_estimators': 155, 'l2_leaf_reg': 0.38, 'learning_rate': 0.46}. Best is trial 18 with value: 0.8827215549094785.\n",
      "[I 2024-01-21 01:53:04,500] Trial 31 finished with value: 0.8697914289626215 and parameters: {'depth': 9, 'n_estimators': 20, 'l2_leaf_reg': 0.56, 'learning_rate': 0.17}. Best is trial 18 with value: 0.8827215549094785.\n",
      "[I 2024-01-21 01:53:44,588] Trial 32 finished with value: 0.8799287713050115 and parameters: {'depth': 10, 'n_estimators': 210, 'l2_leaf_reg': 0.62, 'learning_rate': 0.09999999999999999}. Best is trial 18 with value: 0.8827215549094785.\n",
      "[I 2024-01-21 01:53:50,873] Trial 33 finished with value: 0.8821192359816061 and parameters: {'depth': 8, 'n_estimators': 175, 'l2_leaf_reg': 0.49, 'learning_rate': 0.19}. Best is trial 18 with value: 0.8827215549094785.\n",
      "[I 2024-01-21 01:53:57,069] Trial 34 finished with value: 0.8790804174481354 and parameters: {'depth': 10, 'n_estimators': 110, 'l2_leaf_reg': 0.31, 'learning_rate': 0.33}. Best is trial 18 with value: 0.8827215549094785.\n",
      "[I 2024-01-21 01:54:03,244] Trial 35 finished with value: 0.8823337982333799 and parameters: {'depth': 9, 'n_estimators': 140, 'l2_leaf_reg': 0.44, 'learning_rate': 0.11}. Best is trial 18 with value: 0.8827215549094785.\n"
     ]
    },
    {
     "name": "stderr",
     "output_type": "stream",
     "text": [
      "[I 2024-01-21 01:54:08,150] Trial 36 finished with value: 0.8798571826022442 and parameters: {'depth': 7, 'n_estimators': 140, 'l2_leaf_reg': 0.45, 'learning_rate': 0.06999999999999999}. Best is trial 18 with value: 0.8827215549094785.\n",
      "[I 2024-01-21 01:54:14,485] Trial 37 finished with value: 0.8116640036521342 and parameters: {'depth': 9, 'n_estimators': 150, 'l2_leaf_reg': 0.34, 'learning_rate': 0.01}. Best is trial 18 with value: 0.8827215549094785.\n",
      "[I 2024-01-21 01:54:33,826] Trial 38 finished with value: 0.8747550658152562 and parameters: {'depth': 6, 'n_estimators': 265, 'l2_leaf_reg': 0.27, 'learning_rate': 0.66}. Best is trial 18 with value: 0.8827215549094785.\n",
      "[I 2024-01-21 01:54:57,035] Trial 39 finished with value: 0.8691335325212595 and parameters: {'depth': 8, 'n_estimators': 220, 'l2_leaf_reg': 0.41000000000000003, 'learning_rate': 0.5800000000000001}. Best is trial 18 with value: 0.8827215549094785.\n",
      "[I 2024-01-21 01:55:00,338] Trial 40 finished with value: 0.8783279192629159 and parameters: {'depth': 3, 'n_estimators': 130, 'l2_leaf_reg': 0.65, 'learning_rate': 0.75}. Best is trial 18 with value: 0.8827215549094785.\n",
      "[I 2024-01-21 01:55:09,515] Trial 41 finished with value: 0.8814919298894696 and parameters: {'depth': 10, 'n_estimators': 185, 'l2_leaf_reg': 0.53, 'learning_rate': 0.14}. Best is trial 18 with value: 0.8827215549094785.\n",
      "[I 2024-01-21 01:55:16,564] Trial 42 finished with value: 0.8826375865342316 and parameters: {'depth': 9, 'n_estimators': 170, 'l2_leaf_reg': 0.47000000000000003, 'learning_rate': 0.09999999999999999}. Best is trial 18 with value: 0.8827215549094785.\n",
      "[I 2024-01-21 01:55:23,544] Trial 43 finished with value: 0.8823679450911284 and parameters: {'depth': 9, 'n_estimators': 165, 'l2_leaf_reg': 0.45, 'learning_rate': 0.09}. Best is trial 18 with value: 0.8827215549094785.\n",
      "[I 2024-01-21 01:55:28,682] Trial 44 finished with value: 0.8813555387918529 and parameters: {'depth': 9, 'n_estimators': 110, 'l2_leaf_reg': 0.46, 'learning_rate': 0.09}. Best is trial 18 with value: 0.8827215549094785.\n",
      "[I 2024-01-21 01:55:36,580] Trial 45 finished with value: 0.8809829282106406 and parameters: {'depth': 9, 'n_estimators': 190, 'l2_leaf_reg': 0.43, 'learning_rate': 0.22}. Best is trial 18 with value: 0.8827215549094785.\n",
      "[I 2024-01-21 01:55:43,520] Trial 46 finished with value: 0.879866013794066 and parameters: {'depth': 9, 'n_estimators': 165, 'l2_leaf_reg': 0.24000000000000002, 'learning_rate': 0.04}. Best is trial 18 with value: 0.8827215549094785.\n",
      "[I 2024-01-21 01:55:50,571] Trial 47 finished with value: 0.8796972528930579 and parameters: {'depth': 10, 'n_estimators': 135, 'l2_leaf_reg': 0.35000000000000003, 'learning_rate': 0.27}. Best is trial 18 with value: 0.8827215549094785.\n",
      "[I 2024-01-21 01:55:57,161] Trial 48 finished with value: 0.8825440285866765 and parameters: {'depth': 9, 'n_estimators': 155, 'l2_leaf_reg': 0.17, 'learning_rate': 0.11}. Best is trial 18 with value: 0.8827215549094785.\n",
      "[I 2024-01-21 01:56:02,460] Trial 49 finished with value: 0.8827248246131086 and parameters: {'depth': 7, 'n_estimators': 160, 'l2_leaf_reg': 0.15000000000000002, 'learning_rate': 0.19}. Best is trial 49 with value: 0.8827248246131086.\n",
      "[I 2024-01-21 01:56:07,617] Trial 50 finished with value: 0.8818585914710376 and parameters: {'depth': 7, 'n_estimators': 155, 'l2_leaf_reg': 0.16, 'learning_rate': 0.2}. Best is trial 49 with value: 0.8827248246131086.\n",
      "[I 2024-01-21 01:56:12,477] Trial 51 finished with value: 0.8814472492510625 and parameters: {'depth': 8, 'n_estimators': 120, 'l2_leaf_reg': 0.09, 'learning_rate': 0.09}. Best is trial 49 with value: 0.8827248246131086.\n",
      "[I 2024-01-21 01:56:17,986] Trial 52 finished with value: 0.8821380681555464 and parameters: {'depth': 7, 'n_estimators': 165, 'l2_leaf_reg': 0.13, 'learning_rate': 0.25}. Best is trial 49 with value: 0.8827248246131086.\n",
      "[I 2024-01-21 01:56:26,064] Trial 53 finished with value: 0.8778328530259366 and parameters: {'depth': 9, 'n_estimators': 195, 'l2_leaf_reg': 0.05, 'learning_rate': 0.3}. Best is trial 49 with value: 0.8827248246131086.\n",
      "[I 2024-01-21 01:56:32,434] Trial 54 finished with value: 0.8827303469680826 and parameters: {'depth': 8, 'n_estimators': 175, 'l2_leaf_reg': 0.19, 'learning_rate': 0.12}. Best is trial 54 with value: 0.8827303469680826.\n",
      "[I 2024-01-21 01:56:55,377] Trial 55 finished with value: 0.8815859561360846 and parameters: {'depth': 8, 'n_estimators': 215, 'l2_leaf_reg': 0.21000000000000002, 'learning_rate': 0.13}. Best is trial 54 with value: 0.8827303469680826.\n",
      "[I 2024-01-21 01:57:01,109] Trial 56 finished with value: 0.8820110231114817 and parameters: {'depth': 7, 'n_estimators': 180, 'l2_leaf_reg': 0.12, 'learning_rate': 0.18000000000000002}. Best is trial 54 with value: 0.8827303469680826.\n",
      "[I 2024-01-21 01:57:06,832] Trial 57 finished with value: 0.8821283095723014 and parameters: {'depth': 8, 'n_estimators': 150, 'l2_leaf_reg': 0.28, 'learning_rate': 0.22}. Best is trial 54 with value: 0.8827303469680826.\n",
      "[I 2024-01-21 01:57:31,250] Trial 58 finished with value: 0.8819422663646397 and parameters: {'depth': 8, 'n_estimators': 225, 'l2_leaf_reg': 0.18000000000000002, 'learning_rate': 0.04}. Best is trial 54 with value: 0.8827303469680826.\n",
      "[I 2024-01-21 01:57:36,445] Trial 59 finished with value: 0.8818640236480613 and parameters: {'depth': 6, 'n_estimators': 175, 'l2_leaf_reg': 0.06999999999999999, 'learning_rate': 0.13}. Best is trial 54 with value: 0.8827303469680826.\n",
      "[I 2024-01-21 01:58:02,780] Trial 60 finished with value: 0.8711321818579335 and parameters: {'depth': 8, 'n_estimators': 245, 'l2_leaf_reg': 0.01, 'learning_rate': 0.41000000000000003}. Best is trial 54 with value: 0.8827303469680826.\n",
      "[I 2024-01-21 01:58:09,569] Trial 61 finished with value: 0.8824076442005905 and parameters: {'depth': 9, 'n_estimators': 160, 'l2_leaf_reg': 0.11, 'learning_rate': 0.08}. Best is trial 54 with value: 0.8827303469680826.\n",
      "[I 2024-01-21 01:58:16,448] Trial 62 finished with value: 0.8818899468684965 and parameters: {'depth': 9, 'n_estimators': 160, 'l2_leaf_reg': 0.24000000000000002, 'learning_rate': 0.06999999999999999}. Best is trial 54 with value: 0.8827303469680826.\n",
      "[I 2024-01-21 01:58:24,036] Trial 63 finished with value: 0.8367762182294721 and parameters: {'depth': 9, 'n_estimators': 190, 'l2_leaf_reg': 0.12, 'learning_rate': 0.01}. Best is trial 54 with value: 0.8827303469680826.\n",
      "[I 2024-01-21 01:58:30,552] Trial 64 finished with value: 0.8823522626339527 and parameters: {'depth': 10, 'n_estimators': 120, 'l2_leaf_reg': 0.15000000000000002, 'learning_rate': 0.17}. Best is trial 54 with value: 0.8827303469680826.\n",
      "[I 2024-01-21 01:58:36,037] Trial 65 finished with value: 0.8824388209121246 and parameters: {'depth': 8, 'n_estimators': 145, 'l2_leaf_reg': 0.09999999999999999, 'learning_rate': 0.12}. Best is trial 54 with value: 0.8827303469680826.\n",
      "[I 2024-01-21 01:58:41,590] Trial 66 finished with value: 0.8818724036296968 and parameters: {'depth': 7, 'n_estimators': 175, 'l2_leaf_reg': 0.06999999999999999, 'learning_rate': 0.12}. Best is trial 54 with value: 0.8827303469680826.\n",
      "[I 2024-01-21 01:58:46,971] Trial 67 finished with value: 0.8823617840581889 and parameters: {'depth': 8, 'n_estimators': 145, 'l2_leaf_reg': 0.18000000000000002, 'learning_rate': 0.24000000000000002}. Best is trial 54 with value: 0.8827303469680826.\n",
      "[I 2024-01-21 01:59:04,544] Trial 68 finished with value: 0.8820938427299704 and parameters: {'depth': 7, 'n_estimators': 205, 'l2_leaf_reg': 0.25, 'learning_rate': 0.16}. Best is trial 54 with value: 0.8827303469680826.\n",
      "[I 2024-01-21 01:59:10,090] Trial 69 finished with value: 0.8822061507890663 and parameters: {'depth': 8, 'n_estimators': 150, 'l2_leaf_reg': 0.55, 'learning_rate': 0.2}. Best is trial 54 with value: 0.8827303469680826.\n",
      "[I 2024-01-21 01:59:13,714] Trial 70 finished with value: 0.877501816881424 and parameters: {'depth': 4, 'n_estimators': 130, 'l2_leaf_reg': 0.03, 'learning_rate': 0.12}. Best is trial 54 with value: 0.8827303469680826.\n",
      "[I 2024-01-21 01:59:20,411] Trial 71 finished with value: 0.8817988594524908 and parameters: {'depth': 9, 'n_estimators': 160, 'l2_leaf_reg': 0.09999999999999999, 'learning_rate': 0.06999999999999999}. Best is trial 54 with value: 0.8827303469680826.\n"
     ]
    },
    {
     "name": "stderr",
     "output_type": "stream",
     "text": [
      "[I 2024-01-21 01:59:27,441] Trial 72 finished with value: 0.8795155709342559 and parameters: {'depth': 9, 'n_estimators': 170, 'l2_leaf_reg': 0.19, 'learning_rate': 0.03}. Best is trial 54 with value: 0.8827303469680826.\n",
      "[I 2024-01-21 01:59:34,091] Trial 73 finished with value: 0.8824073645741777 and parameters: {'depth': 8, 'n_estimators': 185, 'l2_leaf_reg': 0.14, 'learning_rate': 0.15000000000000002}. Best is trial 54 with value: 0.8827303469680826.\n",
      "[I 2024-01-21 01:59:41,387] Trial 74 finished with value: 0.8824376422499884 and parameters: {'depth': 10, 'n_estimators': 140, 'l2_leaf_reg': 0.49, 'learning_rate': 0.09999999999999999}. Best is trial 54 with value: 0.8827303469680826.\n",
      "[I 2024-01-21 02:00:36,854] Trial 75 finished with value: 0.8779455144889814 and parameters: {'depth': 10, 'n_estimators': 295, 'l2_leaf_reg': 0.47000000000000003, 'learning_rate': 0.11}. Best is trial 54 with value: 0.8827303469680826.\n",
      "[I 2024-01-21 02:00:42,348] Trial 76 finished with value: 0.8801160092807424 and parameters: {'depth': 10, 'n_estimators': 100, 'l2_leaf_reg': 0.5, 'learning_rate': 0.05}. Best is trial 54 with value: 0.8827303469680826.\n",
      "[I 2024-01-21 02:00:49,899] Trial 77 finished with value: 0.8804730720811246 and parameters: {'depth': 10, 'n_estimators': 145, 'l2_leaf_reg': 0.32, 'learning_rate': 0.21000000000000002}. Best is trial 54 with value: 0.8827303469680826.\n",
      "[I 2024-01-21 02:00:54,219] Trial 78 finished with value: 0.8819859991220572 and parameters: {'depth': 6, 'n_estimators': 135, 'l2_leaf_reg': 0.39, 'learning_rate': 0.28}. Best is trial 54 with value: 0.8827303469680826.\n",
      "[I 2024-01-21 02:01:01,110] Trial 79 finished with value: 0.8819773572661853 and parameters: {'depth': 8, 'n_estimators': 195, 'l2_leaf_reg': 0.64, 'learning_rate': 0.18000000000000002}. Best is trial 54 with value: 0.8827303469680826.\n",
      "[I 2024-01-21 02:01:04,114] Trial 80 finished with value: 0.8799582342363247 and parameters: {'depth': 7, 'n_estimators': 60, 'l2_leaf_reg': 0.59, 'learning_rate': 0.15000000000000002}. Best is trial 54 with value: 0.8827303469680826.\n",
      "[I 2024-01-21 02:01:10,742] Trial 81 finished with value: 0.8824350415222498 and parameters: {'depth': 9, 'n_estimators': 155, 'l2_leaf_reg': 0.09, 'learning_rate': 0.09}. Best is trial 54 with value: 0.8827303469680826.\n",
      "[I 2024-01-21 02:01:16,846] Trial 82 finished with value: 0.882078042558126 and parameters: {'depth': 9, 'n_estimators': 140, 'l2_leaf_reg': 0.06999999999999999, 'learning_rate': 0.09999999999999999}. Best is trial 54 with value: 0.8827303469680826.\n",
      "[I 2024-01-21 02:01:23,428] Trial 83 finished with value: 0.8814095114127655 and parameters: {'depth': 9, 'n_estimators': 155, 'l2_leaf_reg': 0.54, 'learning_rate': 0.05}. Best is trial 54 with value: 0.8827303469680826.\n",
      "[I 2024-01-21 02:01:30,564] Trial 84 finished with value: 0.8826379915082149 and parameters: {'depth': 9, 'n_estimators': 170, 'l2_leaf_reg': 0.22, 'learning_rate': 0.14}. Best is trial 54 with value: 0.8827303469680826.\n",
      "[I 2024-01-21 02:01:39,322] Trial 85 finished with value: 0.8813661290695791 and parameters: {'depth': 10, 'n_estimators': 170, 'l2_leaf_reg': 0.23, 'learning_rate': 0.13}. Best is trial 54 with value: 0.8827303469680826.\n",
      "[I 2024-01-21 02:01:45,738] Trial 86 finished with value: 0.8821516909776 and parameters: {'depth': 8, 'n_estimators': 175, 'l2_leaf_reg': 0.16, 'learning_rate': 0.16}. Best is trial 54 with value: 0.8827303469680826.\n",
      "[I 2024-01-21 02:01:51,466] Trial 87 finished with value: 0.882257226934395 and parameters: {'depth': 9, 'n_estimators': 125, 'l2_leaf_reg': 0.21000000000000002, 'learning_rate': 0.23}. Best is trial 54 with value: 0.8827303469680826.\n",
      "[I 2024-01-21 02:02:00,586] Trial 88 finished with value: 0.8806396081013946 and parameters: {'depth': 10, 'n_estimators': 180, 'l2_leaf_reg': 0.28, 'learning_rate': 0.19}. Best is trial 54 with value: 0.8827303469680826.\n",
      "[I 2024-01-21 02:02:22,166] Trial 89 finished with value: 0.8823563545208724 and parameters: {'depth': 8, 'n_estimators': 200, 'l2_leaf_reg': 0.42000000000000004, 'learning_rate': 0.06999999999999999}. Best is trial 54 with value: 0.8827303469680826.\n",
      "[I 2024-01-21 02:02:27,652] Trial 90 finished with value: 0.881963002811231 and parameters: {'depth': 7, 'n_estimators': 165, 'l2_leaf_reg': 0.48000000000000004, 'learning_rate': 0.11}. Best is trial 54 with value: 0.8827303469680826.\n",
      "[I 2024-01-21 02:02:34,196] Trial 91 finished with value: 0.8824438838969161 and parameters: {'depth': 9, 'n_estimators': 150, 'l2_leaf_reg': 0.17, 'learning_rate': 0.09}. Best is trial 54 with value: 0.8827303469680826.\n",
      "[I 2024-01-21 02:02:40,514] Trial 92 finished with value: 0.8826939510820611 and parameters: {'depth': 9, 'n_estimators': 145, 'l2_leaf_reg': 0.17, 'learning_rate': 0.14}. Best is trial 54 with value: 0.8827303469680826.\n",
      "[I 2024-01-21 02:02:47,054] Trial 93 finished with value: 0.8666467985603264 and parameters: {'depth': 9, 'n_estimators': 150, 'l2_leaf_reg': 0.19, 'learning_rate': 0.9}. Best is trial 54 with value: 0.8827303469680826.\n",
      "[I 2024-01-21 02:02:54,508] Trial 94 finished with value: 0.8823128859137861 and parameters: {'depth': 9, 'n_estimators': 180, 'l2_leaf_reg': 0.17, 'learning_rate': 0.14}. Best is trial 54 with value: 0.8827303469680826.\n",
      "[I 2024-01-21 02:02:59,694] Trial 95 finished with value: 0.8735721200387222 and parameters: {'depth': 8, 'n_estimators': 130, 'l2_leaf_reg': 0.14, 'learning_rate': 0.03}. Best is trial 54 with value: 0.8827303469680826.\n",
      "[I 2024-01-21 02:03:07,679] Trial 96 finished with value: 0.881487129719488 and parameters: {'depth': 9, 'n_estimators': 190, 'l2_leaf_reg': 0.26, 'learning_rate': 0.17}. Best is trial 54 with value: 0.8827303469680826.\n",
      "[I 2024-01-21 02:03:13,880] Trial 97 finished with value: 0.8825852782764811 and parameters: {'depth': 8, 'n_estimators': 165, 'l2_leaf_reg': 0.22, 'learning_rate': 0.12}. Best is trial 54 with value: 0.8827303469680826.\n",
      "[I 2024-01-21 02:03:21,109] Trial 98 finished with value: 0.8749669695890443 and parameters: {'depth': 9, 'n_estimators': 170, 'l2_leaf_reg': 0.22, 'learning_rate': 0.49}. Best is trial 54 with value: 0.8827303469680826.\n",
      "[I 2024-01-21 02:03:28,821] Trial 99 finished with value: 0.8798514006183951 and parameters: {'depth': 9, 'n_estimators': 185, 'l2_leaf_reg': 0.29000000000000004, 'learning_rate': 0.26}. Best is trial 54 with value: 0.8827303469680826.\n"
     ]
    }
   ],
   "source": [
    "study = optuna.create_study(direction='maximize')\n",
    "study.optimize(objective_gpu, n_trials=100)"
   ]
  },
  {
   "cell_type": "markdown",
   "id": "8d37c3f4",
   "metadata": {},
   "source": [
    "## Визуализация подбора гиперпараметров optuna"
   ]
  },
  {
   "cell_type": "code",
   "execution_count": 15,
   "id": "0b4bc862",
   "metadata": {
    "scrolled": false
   },
   "outputs": [
    {
     "data": {
      "application/vnd.plotly.v1+json": {
       "config": {
        "plotlyServerURL": "https://plot.ly"
       },
       "data": [
        {
         "marker": {
          "color": [
           0,
           1,
           2,
           3,
           4,
           5,
           6,
           7,
           8,
           9,
           10,
           11,
           12,
           13,
           14,
           15,
           16,
           17,
           18,
           19,
           20,
           21,
           22,
           23,
           24,
           25,
           26,
           27,
           28,
           29,
           30,
           31,
           32,
           33,
           34,
           35,
           36,
           37,
           38,
           39,
           40,
           41,
           42,
           43,
           44,
           45,
           46,
           47,
           48,
           49,
           50,
           51,
           52,
           53,
           54,
           55,
           56,
           57,
           58,
           59,
           60,
           61,
           62,
           63,
           64,
           65,
           66,
           67,
           68,
           69,
           70,
           71,
           72,
           73,
           74,
           75,
           76,
           77,
           78,
           79,
           80,
           81,
           82,
           83,
           84,
           85,
           86,
           87,
           88,
           89,
           90,
           91,
           92,
           93,
           94,
           95,
           96,
           97,
           98,
           99
          ],
          "colorbar": {
           "title": {
            "text": "Trial"
           },
           "x": 1,
           "xpad": 40
          },
          "colorscale": [
           [
            0,
            "rgb(247,251,255)"
           ],
           [
            0.125,
            "rgb(222,235,247)"
           ],
           [
            0.25,
            "rgb(198,219,239)"
           ],
           [
            0.375,
            "rgb(158,202,225)"
           ],
           [
            0.5,
            "rgb(107,174,214)"
           ],
           [
            0.625,
            "rgb(66,146,198)"
           ],
           [
            0.75,
            "rgb(33,113,181)"
           ],
           [
            0.875,
            "rgb(8,81,156)"
           ],
           [
            1,
            "rgb(8,48,107)"
           ]
          ],
          "line": {
           "color": "Grey",
           "width": 0.5
          },
          "showscale": true
         },
         "mode": "markers",
         "showlegend": false,
         "type": "scatter",
         "x": [
          12,
          10,
          11,
          16,
          11,
          16,
          16,
          12,
          14,
          16,
          14,
          13,
          14,
          13,
          13,
          13,
          12,
          15,
          13,
          15,
          15,
          14,
          15,
          13,
          12,
          11,
          11,
          10,
          10,
          11,
          10,
          11,
          11,
          10,
          11,
          10,
          11,
          10,
          11,
          12,
          12,
          12,
          11,
          10,
          11,
          11,
          12,
          12,
          11,
          10,
          10,
          10,
          10,
          10,
          10,
          10,
          10,
          10,
          10,
          10,
          10,
          10,
          10,
          10,
          10,
          10,
          10,
          10,
          10,
          10,
          11,
          10,
          10,
          10,
          10,
          10,
          11,
          10,
          10,
          11,
          10,
          10,
          10,
          10,
          10,
          11,
          16,
          14,
          10,
          10,
          11,
          10,
          10,
          10,
          10,
          10,
          10,
          11,
          10,
          10
         ],
         "xaxis": "x",
         "y": [
          0.7744191484386624,
          0.7667072934583271,
          0.7726057418365112,
          0.7690073620460636,
          0.7713825230714886,
          0.7679132815757153,
          0.769229040991249,
          0.7596416723398277,
          0.7700745009996761,
          0.7729574500734376,
          0.7615852019142874,
          0.7711299153807863,
          0.761880215213119,
          0.7749022607513174,
          0.7747419945204294,
          0.7697380880763789,
          0.7679292530511878,
          0.7598479612992397,
          0.7745910070267754,
          0.7748607280004327,
          0.773225658197098,
          0.7614918725862495,
          0.7733319167020825,
          0.7748705572153056,
          0.7749232028401664,
          0.7754399922591466,
          0.7753361828576351,
          0.7756782684617293,
          0.7596869053796921,
          0.7750016196255426,
          0.7731208185753641,
          0.7746572001517534,
          0.7754162048147392,
          0.7746706332341691,
          0.7754315726032116,
          0.7702033107432508,
          0.7672306120131713,
          0.7753365643511039,
          0.7745940986964222,
          0.7753885229669809,
          0.7706306106616424,
          0.7755343651118237,
          0.7747831902087955,
          0.7681658555313406,
          0.7750342498486634,
          0.7745241740225618,
          0.7729279594334674,
          0.7689556908979159,
          0.77570123554859,
          0.775933343328978,
          0.7760758570386579,
          0.7758100092083002,
          0.7759524267898779,
          0.7758294653601513,
          0.7758644707092571,
          0.7760226638622999,
          0.773832753752739,
          0.7759786534072034,
          0.7756536648092585,
          0.7755853272268117,
          0.7748536743984392,
          0.7759238978719749,
          0.7758637302870357,
          0.7700732364267748,
          0.7710846042241198,
          0.775862622372011,
          0.7755062514794809,
          0.7740650875341378,
          0.775641991519039,
          0.7676749394810073,
          0.7705403158769741,
          0.7758809039305987,
          0.7745618044409485,
          0.7744986556425816,
          0.7753187810676465,
          0.7680185504114184,
          0.7757534261230515,
          0.7758215962441314,
          0.7754471890971039,
          0.775561737641772,
          0.7605970792692786,
          0.7759099139639785,
          0.7761917529090031,
          0.772944534984195,
          0.7705632506404356,
          0.775203200136176,
          0.7752649873406858,
          0.7750082447685613,
          0.7748107832298665,
          0.7747279001858243,
          0.7700734802939211,
          0.7757604440046464,
          0.7746854663774404,
          0.7757978153780253,
          0.7758629922777855,
          0.7751963138425596,
          0.7759363677293485,
          0.7757037483064881,
          0.7759104241152669,
          0.7760681191010512
         ],
         "yaxis": "y"
        },
        {
         "marker": {
          "color": [
           0,
           1,
           2,
           3,
           4,
           5,
           6,
           7,
           8,
           9,
           10,
           11,
           12,
           13,
           14,
           15,
           16,
           17,
           18,
           19,
           20,
           21,
           22,
           23,
           24,
           25,
           26,
           27,
           28,
           29,
           30,
           31,
           32,
           33,
           34,
           35,
           36,
           37,
           38,
           39,
           40,
           41,
           42,
           43,
           44,
           45,
           46,
           47,
           48,
           49,
           50,
           51,
           52,
           53,
           54,
           55,
           56,
           57,
           58,
           59,
           60,
           61,
           62,
           63,
           64,
           65,
           66,
           67,
           68,
           69,
           70,
           71,
           72,
           73,
           74,
           75,
           76,
           77,
           78,
           79,
           80,
           81,
           82,
           83,
           84,
           85,
           86,
           87,
           88,
           89,
           90,
           91,
           92,
           93,
           94,
           95,
           96,
           97,
           98,
           99
          ],
          "colorbar": {
           "title": {
            "text": "Trial"
           },
           "x": 1,
           "xpad": 40
          },
          "colorscale": [
           [
            0,
            "rgb(247,251,255)"
           ],
           [
            0.125,
            "rgb(222,235,247)"
           ],
           [
            0.25,
            "rgb(198,219,239)"
           ],
           [
            0.375,
            "rgb(158,202,225)"
           ],
           [
            0.5,
            "rgb(107,174,214)"
           ],
           [
            0.625,
            "rgb(66,146,198)"
           ],
           [
            0.75,
            "rgb(33,113,181)"
           ],
           [
            0.875,
            "rgb(8,81,156)"
           ],
           [
            1,
            "rgb(8,48,107)"
           ]
          ],
          "line": {
           "color": "Grey",
           "width": 0.5
          },
          "showscale": false
         },
         "mode": "markers",
         "showlegend": false,
         "type": "scatter",
         "x": [
          0.44,
          0.3,
          0.08,
          0.45,
          0.62,
          0.89,
          0.16,
          0.68,
          0.08,
          0.2,
          0.43,
          0.27,
          0.29000000000000004,
          0.59,
          0.62,
          0.63,
          0.8,
          0.54,
          0.75,
          0.53,
          0.54,
          0.54,
          0.72,
          0.36000000000000004,
          0.38,
          0.33,
          0.38,
          0.36000000000000004,
          0.23,
          0.36000000000000004,
          0.41000000000000003,
          0.33,
          0.48000000000000004,
          0.49,
          0.46,
          0.47000000000000003,
          0.17,
          0.27,
          0.45,
          0.11,
          0.33,
          0.01,
          0.5,
          0.04,
          0.03,
          0.13,
          0.21000000000000002,
          0.42000000000000004,
          0.3,
          0.25,
          0.24000000000000002,
          0.23,
          0.26,
          0.25,
          0.25,
          0.24000000000000002,
          0.16,
          0.25,
          0.19,
          0.26,
          0.13,
          0.24000000000000002,
          0.29000000000000004,
          0.21000000000000002,
          0.18000000000000002,
          0.24000000000000002,
          0.08,
          0.31,
          0.14,
          0.22,
          0.89,
          0.28,
          0.28,
          0.26,
          0.32,
          0.2,
          0.38,
          0.24000000000000002,
          0.28,
          0.15000000000000002,
          0.35000000000000003,
          0.29000000000000004,
          0.3,
          0.3,
          0.4,
          0.18000000000000002,
          0.33,
          0.22,
          0.27,
          0.34,
          0.31,
          0.24000000000000002,
          0.26,
          0.19,
          0.29000000000000004,
          0.21000000000000002,
          0.09999999999999999,
          0.11,
          0.060000000000000005,
          0.060000000000000005
         ],
         "xaxis": "x2",
         "y": [
          0.7744191484386624,
          0.7667072934583271,
          0.7726057418365112,
          0.7690073620460636,
          0.7713825230714886,
          0.7679132815757153,
          0.769229040991249,
          0.7596416723398277,
          0.7700745009996761,
          0.7729574500734376,
          0.7615852019142874,
          0.7711299153807863,
          0.761880215213119,
          0.7749022607513174,
          0.7747419945204294,
          0.7697380880763789,
          0.7679292530511878,
          0.7598479612992397,
          0.7745910070267754,
          0.7748607280004327,
          0.773225658197098,
          0.7614918725862495,
          0.7733319167020825,
          0.7748705572153056,
          0.7749232028401664,
          0.7754399922591466,
          0.7753361828576351,
          0.7756782684617293,
          0.7596869053796921,
          0.7750016196255426,
          0.7731208185753641,
          0.7746572001517534,
          0.7754162048147392,
          0.7746706332341691,
          0.7754315726032116,
          0.7702033107432508,
          0.7672306120131713,
          0.7753365643511039,
          0.7745940986964222,
          0.7753885229669809,
          0.7706306106616424,
          0.7755343651118237,
          0.7747831902087955,
          0.7681658555313406,
          0.7750342498486634,
          0.7745241740225618,
          0.7729279594334674,
          0.7689556908979159,
          0.77570123554859,
          0.775933343328978,
          0.7760758570386579,
          0.7758100092083002,
          0.7759524267898779,
          0.7758294653601513,
          0.7758644707092571,
          0.7760226638622999,
          0.773832753752739,
          0.7759786534072034,
          0.7756536648092585,
          0.7755853272268117,
          0.7748536743984392,
          0.7759238978719749,
          0.7758637302870357,
          0.7700732364267748,
          0.7710846042241198,
          0.775862622372011,
          0.7755062514794809,
          0.7740650875341378,
          0.775641991519039,
          0.7676749394810073,
          0.7705403158769741,
          0.7758809039305987,
          0.7745618044409485,
          0.7744986556425816,
          0.7753187810676465,
          0.7680185504114184,
          0.7757534261230515,
          0.7758215962441314,
          0.7754471890971039,
          0.775561737641772,
          0.7605970792692786,
          0.7759099139639785,
          0.7761917529090031,
          0.772944534984195,
          0.7705632506404356,
          0.775203200136176,
          0.7752649873406858,
          0.7750082447685613,
          0.7748107832298665,
          0.7747279001858243,
          0.7700734802939211,
          0.7757604440046464,
          0.7746854663774404,
          0.7757978153780253,
          0.7758629922777855,
          0.7751963138425596,
          0.7759363677293485,
          0.7757037483064881,
          0.7759104241152669,
          0.7760681191010512
         ],
         "yaxis": "y2"
        },
        {
         "marker": {
          "color": [
           0,
           1,
           2,
           3,
           4,
           5,
           6,
           7,
           8,
           9,
           10,
           11,
           12,
           13,
           14,
           15,
           16,
           17,
           18,
           19,
           20,
           21,
           22,
           23,
           24,
           25,
           26,
           27,
           28,
           29,
           30,
           31,
           32,
           33,
           34,
           35,
           36,
           37,
           38,
           39,
           40,
           41,
           42,
           43,
           44,
           45,
           46,
           47,
           48,
           49,
           50,
           51,
           52,
           53,
           54,
           55,
           56,
           57,
           58,
           59,
           60,
           61,
           62,
           63,
           64,
           65,
           66,
           67,
           68,
           69,
           70,
           71,
           72,
           73,
           74,
           75,
           76,
           77,
           78,
           79,
           80,
           81,
           82,
           83,
           84,
           85,
           86,
           87,
           88,
           89,
           90,
           91,
           92,
           93,
           94,
           95,
           96,
           97,
           98,
           99
          ],
          "colorbar": {
           "title": {
            "text": "Trial"
           },
           "x": 1,
           "xpad": 40
          },
          "colorscale": [
           [
            0,
            "rgb(247,251,255)"
           ],
           [
            0.125,
            "rgb(222,235,247)"
           ],
           [
            0.25,
            "rgb(198,219,239)"
           ],
           [
            0.375,
            "rgb(158,202,225)"
           ],
           [
            0.5,
            "rgb(107,174,214)"
           ],
           [
            0.625,
            "rgb(66,146,198)"
           ],
           [
            0.75,
            "rgb(33,113,181)"
           ],
           [
            0.875,
            "rgb(8,81,156)"
           ],
           [
            1,
            "rgb(8,48,107)"
           ]
          ],
          "line": {
           "color": "Grey",
           "width": 0.5
          },
          "showscale": false
         },
         "mode": "markers",
         "showlegend": false,
         "type": "scatter",
         "x": [
          0.0076,
          0.039,
          0.014600000000000002,
          0.0499,
          0.02,
          0.0262,
          0.0376,
          0.005,
          0.0337,
          0.024800000000000003,
          0.004,
          0.0139,
          0.0267,
          0.0115,
          0.010100000000000001,
          0.012199999999999999,
          0.0193,
          0.002,
          0.0104,
          0.0175,
          0.019000000000000003,
          0.0085,
          0.0161,
          0.022400000000000003,
          0.022400000000000003,
          0.030600000000000002,
          0.030500000000000003,
          0.030900000000000004,
          0.0307,
          0.043100000000000006,
          0.0307,
          0.044700000000000004,
          0.0398,
          0.037700000000000004,
          0.033600000000000005,
          0.0352,
          0.042300000000000004,
          0.040100000000000004,
          0.048600000000000004,
          0.033,
          0.035300000000000005,
          0.0333,
          0.0284,
          0.0396,
          0.033100000000000004,
          0.0359,
          0.027500000000000004,
          0.0296,
          0.024900000000000002,
          0.024200000000000003,
          0.0251,
          0.024200000000000003,
          0.023500000000000004,
          0.024,
          0.021,
          0.0223,
          0.0217,
          0.020900000000000002,
          0.0206,
          0.017,
          0.015,
          0.0233,
          0.019200000000000002,
          0.0261,
          0.023200000000000002,
          0.021,
          0.018600000000000002,
          0.025500000000000002,
          0.027000000000000003,
          0.023100000000000002,
          0.0204,
          0.0187,
          0.0175,
          0.014700000000000001,
          0.022000000000000002,
          0.028600000000000004,
          0.0183,
          0.023700000000000002,
          0.0199,
          0.016300000000000002,
          0.013400000000000002,
          0.0194,
          0.0216,
          0.024800000000000003,
          0.0227,
          0.021800000000000003,
          0.0267,
          0.0182,
          0.0158,
          0.019600000000000003,
          0.028300000000000002,
          0.0217,
          0.025300000000000003,
          0.020700000000000003,
          0.024100000000000003,
          0.0229,
          0.0211,
          0.017400000000000002,
          0.026000000000000002,
          0.027500000000000004
         ],
         "xaxis": "x3",
         "y": [
          0.7744191484386624,
          0.7667072934583271,
          0.7726057418365112,
          0.7690073620460636,
          0.7713825230714886,
          0.7679132815757153,
          0.769229040991249,
          0.7596416723398277,
          0.7700745009996761,
          0.7729574500734376,
          0.7615852019142874,
          0.7711299153807863,
          0.761880215213119,
          0.7749022607513174,
          0.7747419945204294,
          0.7697380880763789,
          0.7679292530511878,
          0.7598479612992397,
          0.7745910070267754,
          0.7748607280004327,
          0.773225658197098,
          0.7614918725862495,
          0.7733319167020825,
          0.7748705572153056,
          0.7749232028401664,
          0.7754399922591466,
          0.7753361828576351,
          0.7756782684617293,
          0.7596869053796921,
          0.7750016196255426,
          0.7731208185753641,
          0.7746572001517534,
          0.7754162048147392,
          0.7746706332341691,
          0.7754315726032116,
          0.7702033107432508,
          0.7672306120131713,
          0.7753365643511039,
          0.7745940986964222,
          0.7753885229669809,
          0.7706306106616424,
          0.7755343651118237,
          0.7747831902087955,
          0.7681658555313406,
          0.7750342498486634,
          0.7745241740225618,
          0.7729279594334674,
          0.7689556908979159,
          0.77570123554859,
          0.775933343328978,
          0.7760758570386579,
          0.7758100092083002,
          0.7759524267898779,
          0.7758294653601513,
          0.7758644707092571,
          0.7760226638622999,
          0.773832753752739,
          0.7759786534072034,
          0.7756536648092585,
          0.7755853272268117,
          0.7748536743984392,
          0.7759238978719749,
          0.7758637302870357,
          0.7700732364267748,
          0.7710846042241198,
          0.775862622372011,
          0.7755062514794809,
          0.7740650875341378,
          0.775641991519039,
          0.7676749394810073,
          0.7705403158769741,
          0.7758809039305987,
          0.7745618044409485,
          0.7744986556425816,
          0.7753187810676465,
          0.7680185504114184,
          0.7757534261230515,
          0.7758215962441314,
          0.7754471890971039,
          0.775561737641772,
          0.7605970792692786,
          0.7759099139639785,
          0.7761917529090031,
          0.772944534984195,
          0.7705632506404356,
          0.775203200136176,
          0.7752649873406858,
          0.7750082447685613,
          0.7748107832298665,
          0.7747279001858243,
          0.7700734802939211,
          0.7757604440046464,
          0.7746854663774404,
          0.7757978153780253,
          0.7758629922777855,
          0.7751963138425596,
          0.7759363677293485,
          0.7757037483064881,
          0.7759104241152669,
          0.7760681191010512
         ],
         "yaxis": "y3"
        },
        {
         "marker": {
          "color": [
           0,
           1,
           2,
           3,
           4,
           5,
           6,
           7,
           8,
           9,
           10,
           11,
           12,
           13,
           14,
           15,
           16,
           17,
           18,
           19,
           20,
           21,
           22,
           23,
           24,
           25,
           26,
           27,
           28,
           29,
           30,
           31,
           32,
           33,
           34,
           35,
           36,
           37,
           38,
           39,
           40,
           41,
           42,
           43,
           44,
           45,
           46,
           47,
           48,
           49,
           50,
           51,
           52,
           53,
           54,
           55,
           56,
           57,
           58,
           59,
           60,
           61,
           62,
           63,
           64,
           65,
           66,
           67,
           68,
           69,
           70,
           71,
           72,
           73,
           74,
           75,
           76,
           77,
           78,
           79,
           80,
           81,
           82,
           83,
           84,
           85,
           86,
           87,
           88,
           89,
           90,
           91,
           92,
           93,
           94,
           95,
           96,
           97,
           98,
           99
          ],
          "colorbar": {
           "title": {
            "text": "Trial"
           },
           "x": 1,
           "xpad": 40
          },
          "colorscale": [
           [
            0,
            "rgb(247,251,255)"
           ],
           [
            0.125,
            "rgb(222,235,247)"
           ],
           [
            0.25,
            "rgb(198,219,239)"
           ],
           [
            0.375,
            "rgb(158,202,225)"
           ],
           [
            0.5,
            "rgb(107,174,214)"
           ],
           [
            0.625,
            "rgb(66,146,198)"
           ],
           [
            0.75,
            "rgb(33,113,181)"
           ],
           [
            0.875,
            "rgb(8,81,156)"
           ],
           [
            1,
            "rgb(8,48,107)"
           ]
          ],
          "line": {
           "color": "Grey",
           "width": 0.5
          },
          "showscale": false
         },
         "mode": "markers",
         "showlegend": false,
         "type": "scatter",
         "x": [
          134,
          130,
          142,
          74,
          114,
          132,
          80,
          41,
          75,
          81,
          197,
          159,
          29,
          95,
          177,
          196,
          164,
          106,
          173,
          101,
          104,
          89,
          59,
          54,
          55,
          53,
          55,
          56,
          20,
          40,
          66,
          42,
          41,
          30,
          49,
          67,
          118,
          43,
          26,
          48,
          65,
          48,
          37,
          79,
          35,
          51,
          73,
          85,
          62,
          63,
          62,
          62,
          62,
          70,
          73,
          72,
          91,
          73,
          75,
          83,
          126,
          70,
          79,
          93,
          99,
          70,
          88,
          75,
          63,
          144,
          113,
          80,
          59,
          70,
          83,
          97,
          77,
          58,
          67,
          88,
          45,
          79,
          71,
          80,
          105,
          60,
          54,
          66,
          69,
          51,
          86,
          77,
          74,
          73,
          64,
          81,
          72,
          94,
          57,
          58
         ],
         "xaxis": "x4",
         "y": [
          0.7744191484386624,
          0.7667072934583271,
          0.7726057418365112,
          0.7690073620460636,
          0.7713825230714886,
          0.7679132815757153,
          0.769229040991249,
          0.7596416723398277,
          0.7700745009996761,
          0.7729574500734376,
          0.7615852019142874,
          0.7711299153807863,
          0.761880215213119,
          0.7749022607513174,
          0.7747419945204294,
          0.7697380880763789,
          0.7679292530511878,
          0.7598479612992397,
          0.7745910070267754,
          0.7748607280004327,
          0.773225658197098,
          0.7614918725862495,
          0.7733319167020825,
          0.7748705572153056,
          0.7749232028401664,
          0.7754399922591466,
          0.7753361828576351,
          0.7756782684617293,
          0.7596869053796921,
          0.7750016196255426,
          0.7731208185753641,
          0.7746572001517534,
          0.7754162048147392,
          0.7746706332341691,
          0.7754315726032116,
          0.7702033107432508,
          0.7672306120131713,
          0.7753365643511039,
          0.7745940986964222,
          0.7753885229669809,
          0.7706306106616424,
          0.7755343651118237,
          0.7747831902087955,
          0.7681658555313406,
          0.7750342498486634,
          0.7745241740225618,
          0.7729279594334674,
          0.7689556908979159,
          0.77570123554859,
          0.775933343328978,
          0.7760758570386579,
          0.7758100092083002,
          0.7759524267898779,
          0.7758294653601513,
          0.7758644707092571,
          0.7760226638622999,
          0.773832753752739,
          0.7759786534072034,
          0.7756536648092585,
          0.7755853272268117,
          0.7748536743984392,
          0.7759238978719749,
          0.7758637302870357,
          0.7700732364267748,
          0.7710846042241198,
          0.775862622372011,
          0.7755062514794809,
          0.7740650875341378,
          0.775641991519039,
          0.7676749394810073,
          0.7705403158769741,
          0.7758809039305987,
          0.7745618044409485,
          0.7744986556425816,
          0.7753187810676465,
          0.7680185504114184,
          0.7757534261230515,
          0.7758215962441314,
          0.7754471890971039,
          0.775561737641772,
          0.7605970792692786,
          0.7759099139639785,
          0.7761917529090031,
          0.772944534984195,
          0.7705632506404356,
          0.775203200136176,
          0.7752649873406858,
          0.7750082447685613,
          0.7748107832298665,
          0.7747279001858243,
          0.7700734802939211,
          0.7757604440046464,
          0.7746854663774404,
          0.7757978153780253,
          0.7758629922777855,
          0.7751963138425596,
          0.7759363677293485,
          0.7757037483064881,
          0.7759104241152669,
          0.7760681191010512
         ],
         "yaxis": "y4"
        }
       ],
       "layout": {
        "template": {
         "data": {
          "bar": [
           {
            "error_x": {
             "color": "#2a3f5f"
            },
            "error_y": {
             "color": "#2a3f5f"
            },
            "marker": {
             "line": {
              "color": "#E5ECF6",
              "width": 0.5
             },
             "pattern": {
              "fillmode": "overlay",
              "size": 10,
              "solidity": 0.2
             }
            },
            "type": "bar"
           }
          ],
          "barpolar": [
           {
            "marker": {
             "line": {
              "color": "#E5ECF6",
              "width": 0.5
             },
             "pattern": {
              "fillmode": "overlay",
              "size": 10,
              "solidity": 0.2
             }
            },
            "type": "barpolar"
           }
          ],
          "carpet": [
           {
            "aaxis": {
             "endlinecolor": "#2a3f5f",
             "gridcolor": "white",
             "linecolor": "white",
             "minorgridcolor": "white",
             "startlinecolor": "#2a3f5f"
            },
            "baxis": {
             "endlinecolor": "#2a3f5f",
             "gridcolor": "white",
             "linecolor": "white",
             "minorgridcolor": "white",
             "startlinecolor": "#2a3f5f"
            },
            "type": "carpet"
           }
          ],
          "choropleth": [
           {
            "colorbar": {
             "outlinewidth": 0,
             "ticks": ""
            },
            "type": "choropleth"
           }
          ],
          "contour": [
           {
            "colorbar": {
             "outlinewidth": 0,
             "ticks": ""
            },
            "colorscale": [
             [
              0,
              "#0d0887"
             ],
             [
              0.1111111111111111,
              "#46039f"
             ],
             [
              0.2222222222222222,
              "#7201a8"
             ],
             [
              0.3333333333333333,
              "#9c179e"
             ],
             [
              0.4444444444444444,
              "#bd3786"
             ],
             [
              0.5555555555555556,
              "#d8576b"
             ],
             [
              0.6666666666666666,
              "#ed7953"
             ],
             [
              0.7777777777777778,
              "#fb9f3a"
             ],
             [
              0.8888888888888888,
              "#fdca26"
             ],
             [
              1,
              "#f0f921"
             ]
            ],
            "type": "contour"
           }
          ],
          "contourcarpet": [
           {
            "colorbar": {
             "outlinewidth": 0,
             "ticks": ""
            },
            "type": "contourcarpet"
           }
          ],
          "heatmap": [
           {
            "colorbar": {
             "outlinewidth": 0,
             "ticks": ""
            },
            "colorscale": [
             [
              0,
              "#0d0887"
             ],
             [
              0.1111111111111111,
              "#46039f"
             ],
             [
              0.2222222222222222,
              "#7201a8"
             ],
             [
              0.3333333333333333,
              "#9c179e"
             ],
             [
              0.4444444444444444,
              "#bd3786"
             ],
             [
              0.5555555555555556,
              "#d8576b"
             ],
             [
              0.6666666666666666,
              "#ed7953"
             ],
             [
              0.7777777777777778,
              "#fb9f3a"
             ],
             [
              0.8888888888888888,
              "#fdca26"
             ],
             [
              1,
              "#f0f921"
             ]
            ],
            "type": "heatmap"
           }
          ],
          "heatmapgl": [
           {
            "colorbar": {
             "outlinewidth": 0,
             "ticks": ""
            },
            "colorscale": [
             [
              0,
              "#0d0887"
             ],
             [
              0.1111111111111111,
              "#46039f"
             ],
             [
              0.2222222222222222,
              "#7201a8"
             ],
             [
              0.3333333333333333,
              "#9c179e"
             ],
             [
              0.4444444444444444,
              "#bd3786"
             ],
             [
              0.5555555555555556,
              "#d8576b"
             ],
             [
              0.6666666666666666,
              "#ed7953"
             ],
             [
              0.7777777777777778,
              "#fb9f3a"
             ],
             [
              0.8888888888888888,
              "#fdca26"
             ],
             [
              1,
              "#f0f921"
             ]
            ],
            "type": "heatmapgl"
           }
          ],
          "histogram": [
           {
            "marker": {
             "pattern": {
              "fillmode": "overlay",
              "size": 10,
              "solidity": 0.2
             }
            },
            "type": "histogram"
           }
          ],
          "histogram2d": [
           {
            "colorbar": {
             "outlinewidth": 0,
             "ticks": ""
            },
            "colorscale": [
             [
              0,
              "#0d0887"
             ],
             [
              0.1111111111111111,
              "#46039f"
             ],
             [
              0.2222222222222222,
              "#7201a8"
             ],
             [
              0.3333333333333333,
              "#9c179e"
             ],
             [
              0.4444444444444444,
              "#bd3786"
             ],
             [
              0.5555555555555556,
              "#d8576b"
             ],
             [
              0.6666666666666666,
              "#ed7953"
             ],
             [
              0.7777777777777778,
              "#fb9f3a"
             ],
             [
              0.8888888888888888,
              "#fdca26"
             ],
             [
              1,
              "#f0f921"
             ]
            ],
            "type": "histogram2d"
           }
          ],
          "histogram2dcontour": [
           {
            "colorbar": {
             "outlinewidth": 0,
             "ticks": ""
            },
            "colorscale": [
             [
              0,
              "#0d0887"
             ],
             [
              0.1111111111111111,
              "#46039f"
             ],
             [
              0.2222222222222222,
              "#7201a8"
             ],
             [
              0.3333333333333333,
              "#9c179e"
             ],
             [
              0.4444444444444444,
              "#bd3786"
             ],
             [
              0.5555555555555556,
              "#d8576b"
             ],
             [
              0.6666666666666666,
              "#ed7953"
             ],
             [
              0.7777777777777778,
              "#fb9f3a"
             ],
             [
              0.8888888888888888,
              "#fdca26"
             ],
             [
              1,
              "#f0f921"
             ]
            ],
            "type": "histogram2dcontour"
           }
          ],
          "mesh3d": [
           {
            "colorbar": {
             "outlinewidth": 0,
             "ticks": ""
            },
            "type": "mesh3d"
           }
          ],
          "parcoords": [
           {
            "line": {
             "colorbar": {
              "outlinewidth": 0,
              "ticks": ""
             }
            },
            "type": "parcoords"
           }
          ],
          "pie": [
           {
            "automargin": true,
            "type": "pie"
           }
          ],
          "scatter": [
           {
            "fillpattern": {
             "fillmode": "overlay",
             "size": 10,
             "solidity": 0.2
            },
            "type": "scatter"
           }
          ],
          "scatter3d": [
           {
            "line": {
             "colorbar": {
              "outlinewidth": 0,
              "ticks": ""
             }
            },
            "marker": {
             "colorbar": {
              "outlinewidth": 0,
              "ticks": ""
             }
            },
            "type": "scatter3d"
           }
          ],
          "scattercarpet": [
           {
            "marker": {
             "colorbar": {
              "outlinewidth": 0,
              "ticks": ""
             }
            },
            "type": "scattercarpet"
           }
          ],
          "scattergeo": [
           {
            "marker": {
             "colorbar": {
              "outlinewidth": 0,
              "ticks": ""
             }
            },
            "type": "scattergeo"
           }
          ],
          "scattergl": [
           {
            "marker": {
             "colorbar": {
              "outlinewidth": 0,
              "ticks": ""
             }
            },
            "type": "scattergl"
           }
          ],
          "scattermapbox": [
           {
            "marker": {
             "colorbar": {
              "outlinewidth": 0,
              "ticks": ""
             }
            },
            "type": "scattermapbox"
           }
          ],
          "scatterpolar": [
           {
            "marker": {
             "colorbar": {
              "outlinewidth": 0,
              "ticks": ""
             }
            },
            "type": "scatterpolar"
           }
          ],
          "scatterpolargl": [
           {
            "marker": {
             "colorbar": {
              "outlinewidth": 0,
              "ticks": ""
             }
            },
            "type": "scatterpolargl"
           }
          ],
          "scatterternary": [
           {
            "marker": {
             "colorbar": {
              "outlinewidth": 0,
              "ticks": ""
             }
            },
            "type": "scatterternary"
           }
          ],
          "surface": [
           {
            "colorbar": {
             "outlinewidth": 0,
             "ticks": ""
            },
            "colorscale": [
             [
              0,
              "#0d0887"
             ],
             [
              0.1111111111111111,
              "#46039f"
             ],
             [
              0.2222222222222222,
              "#7201a8"
             ],
             [
              0.3333333333333333,
              "#9c179e"
             ],
             [
              0.4444444444444444,
              "#bd3786"
             ],
             [
              0.5555555555555556,
              "#d8576b"
             ],
             [
              0.6666666666666666,
              "#ed7953"
             ],
             [
              0.7777777777777778,
              "#fb9f3a"
             ],
             [
              0.8888888888888888,
              "#fdca26"
             ],
             [
              1,
              "#f0f921"
             ]
            ],
            "type": "surface"
           }
          ],
          "table": [
           {
            "cells": {
             "fill": {
              "color": "#EBF0F8"
             },
             "line": {
              "color": "white"
             }
            },
            "header": {
             "fill": {
              "color": "#C8D4E3"
             },
             "line": {
              "color": "white"
             }
            },
            "type": "table"
           }
          ]
         },
         "layout": {
          "annotationdefaults": {
           "arrowcolor": "#2a3f5f",
           "arrowhead": 0,
           "arrowwidth": 1
          },
          "autotypenumbers": "strict",
          "coloraxis": {
           "colorbar": {
            "outlinewidth": 0,
            "ticks": ""
           }
          },
          "colorscale": {
           "diverging": [
            [
             0,
             "#8e0152"
            ],
            [
             0.1,
             "#c51b7d"
            ],
            [
             0.2,
             "#de77ae"
            ],
            [
             0.3,
             "#f1b6da"
            ],
            [
             0.4,
             "#fde0ef"
            ],
            [
             0.5,
             "#f7f7f7"
            ],
            [
             0.6,
             "#e6f5d0"
            ],
            [
             0.7,
             "#b8e186"
            ],
            [
             0.8,
             "#7fbc41"
            ],
            [
             0.9,
             "#4d9221"
            ],
            [
             1,
             "#276419"
            ]
           ],
           "sequential": [
            [
             0,
             "#0d0887"
            ],
            [
             0.1111111111111111,
             "#46039f"
            ],
            [
             0.2222222222222222,
             "#7201a8"
            ],
            [
             0.3333333333333333,
             "#9c179e"
            ],
            [
             0.4444444444444444,
             "#bd3786"
            ],
            [
             0.5555555555555556,
             "#d8576b"
            ],
            [
             0.6666666666666666,
             "#ed7953"
            ],
            [
             0.7777777777777778,
             "#fb9f3a"
            ],
            [
             0.8888888888888888,
             "#fdca26"
            ],
            [
             1,
             "#f0f921"
            ]
           ],
           "sequentialminus": [
            [
             0,
             "#0d0887"
            ],
            [
             0.1111111111111111,
             "#46039f"
            ],
            [
             0.2222222222222222,
             "#7201a8"
            ],
            [
             0.3333333333333333,
             "#9c179e"
            ],
            [
             0.4444444444444444,
             "#bd3786"
            ],
            [
             0.5555555555555556,
             "#d8576b"
            ],
            [
             0.6666666666666666,
             "#ed7953"
            ],
            [
             0.7777777777777778,
             "#fb9f3a"
            ],
            [
             0.8888888888888888,
             "#fdca26"
            ],
            [
             1,
             "#f0f921"
            ]
           ]
          },
          "colorway": [
           "#636efa",
           "#EF553B",
           "#00cc96",
           "#ab63fa",
           "#FFA15A",
           "#19d3f3",
           "#FF6692",
           "#B6E880",
           "#FF97FF",
           "#FECB52"
          ],
          "font": {
           "color": "#2a3f5f"
          },
          "geo": {
           "bgcolor": "white",
           "lakecolor": "white",
           "landcolor": "#E5ECF6",
           "showlakes": true,
           "showland": true,
           "subunitcolor": "white"
          },
          "hoverlabel": {
           "align": "left"
          },
          "hovermode": "closest",
          "mapbox": {
           "style": "light"
          },
          "paper_bgcolor": "white",
          "plot_bgcolor": "#E5ECF6",
          "polar": {
           "angularaxis": {
            "gridcolor": "white",
            "linecolor": "white",
            "ticks": ""
           },
           "bgcolor": "#E5ECF6",
           "radialaxis": {
            "gridcolor": "white",
            "linecolor": "white",
            "ticks": ""
           }
          },
          "scene": {
           "xaxis": {
            "backgroundcolor": "#E5ECF6",
            "gridcolor": "white",
            "gridwidth": 2,
            "linecolor": "white",
            "showbackground": true,
            "ticks": "",
            "zerolinecolor": "white"
           },
           "yaxis": {
            "backgroundcolor": "#E5ECF6",
            "gridcolor": "white",
            "gridwidth": 2,
            "linecolor": "white",
            "showbackground": true,
            "ticks": "",
            "zerolinecolor": "white"
           },
           "zaxis": {
            "backgroundcolor": "#E5ECF6",
            "gridcolor": "white",
            "gridwidth": 2,
            "linecolor": "white",
            "showbackground": true,
            "ticks": "",
            "zerolinecolor": "white"
           }
          },
          "shapedefaults": {
           "line": {
            "color": "#2a3f5f"
           }
          },
          "ternary": {
           "aaxis": {
            "gridcolor": "white",
            "linecolor": "white",
            "ticks": ""
           },
           "baxis": {
            "gridcolor": "white",
            "linecolor": "white",
            "ticks": ""
           },
           "bgcolor": "#E5ECF6",
           "caxis": {
            "gridcolor": "white",
            "linecolor": "white",
            "ticks": ""
           }
          },
          "title": {
           "x": 0.05
          },
          "xaxis": {
           "automargin": true,
           "gridcolor": "white",
           "linecolor": "white",
           "ticks": "",
           "title": {
            "standoff": 15
           },
           "zerolinecolor": "white",
           "zerolinewidth": 2
          },
          "yaxis": {
           "automargin": true,
           "gridcolor": "white",
           "linecolor": "white",
           "ticks": "",
           "title": {
            "standoff": 15
           },
           "zerolinecolor": "white",
           "zerolinewidth": 2
          }
         }
        },
        "title": {
         "text": "Slice Plot"
        },
        "width": 1200,
        "xaxis": {
         "anchor": "y",
         "domain": [
          0,
          0.2125
         ],
         "title": {
          "text": "depth"
         }
        },
        "xaxis2": {
         "anchor": "y2",
         "domain": [
          0.2625,
          0.475
         ],
         "title": {
          "text": "l2_leaf_reg"
         }
        },
        "xaxis3": {
         "anchor": "y3",
         "domain": [
          0.525,
          0.7375
         ],
         "title": {
          "text": "learning_rate"
         }
        },
        "xaxis4": {
         "anchor": "y4",
         "domain": [
          0.7875,
          1
         ],
         "title": {
          "text": "n_estimators"
         }
        },
        "yaxis": {
         "anchor": "x",
         "domain": [
          0,
          1
         ],
         "title": {
          "text": "Objective Value"
         }
        },
        "yaxis2": {
         "anchor": "x2",
         "domain": [
          0,
          1
         ],
         "matches": "y",
         "showticklabels": false
        },
        "yaxis3": {
         "anchor": "x3",
         "domain": [
          0,
          1
         ],
         "matches": "y",
         "showticklabels": false
        },
        "yaxis4": {
         "anchor": "x4",
         "domain": [
          0,
          1
         ],
         "matches": "y",
         "showticklabels": false
        }
       }
      },
      "text/html": [
       "<div>                            <div id=\"9f76b6fb-b3e1-42af-bfa9-0cbd0ed31f3d\" class=\"plotly-graph-div\" style=\"height:525px; width:1200px;\"></div>            <script type=\"text/javascript\">                require([\"plotly\"], function(Plotly) {                    window.PLOTLYENV=window.PLOTLYENV || {};                                    if (document.getElementById(\"9f76b6fb-b3e1-42af-bfa9-0cbd0ed31f3d\")) {                    Plotly.newPlot(                        \"9f76b6fb-b3e1-42af-bfa9-0cbd0ed31f3d\",                        [{\"marker\":{\"color\":[0,1,2,3,4,5,6,7,8,9,10,11,12,13,14,15,16,17,18,19,20,21,22,23,24,25,26,27,28,29,30,31,32,33,34,35,36,37,38,39,40,41,42,43,44,45,46,47,48,49,50,51,52,53,54,55,56,57,58,59,60,61,62,63,64,65,66,67,68,69,70,71,72,73,74,75,76,77,78,79,80,81,82,83,84,85,86,87,88,89,90,91,92,93,94,95,96,97,98,99],\"colorbar\":{\"title\":{\"text\":\"Trial\"},\"x\":1.0,\"xpad\":40},\"colorscale\":[[0.0,\"rgb(247,251,255)\"],[0.125,\"rgb(222,235,247)\"],[0.25,\"rgb(198,219,239)\"],[0.375,\"rgb(158,202,225)\"],[0.5,\"rgb(107,174,214)\"],[0.625,\"rgb(66,146,198)\"],[0.75,\"rgb(33,113,181)\"],[0.875,\"rgb(8,81,156)\"],[1.0,\"rgb(8,48,107)\"]],\"line\":{\"color\":\"Grey\",\"width\":0.5},\"showscale\":true},\"mode\":\"markers\",\"showlegend\":false,\"x\":[12,10,11,16,11,16,16,12,14,16,14,13,14,13,13,13,12,15,13,15,15,14,15,13,12,11,11,10,10,11,10,11,11,10,11,10,11,10,11,12,12,12,11,10,11,11,12,12,11,10,10,10,10,10,10,10,10,10,10,10,10,10,10,10,10,10,10,10,10,10,11,10,10,10,10,10,11,10,10,11,10,10,10,10,10,11,16,14,10,10,11,10,10,10,10,10,10,11,10,10],\"y\":[0.7744191484386624,0.7667072934583271,0.7726057418365112,0.7690073620460636,0.7713825230714886,0.7679132815757153,0.769229040991249,0.7596416723398277,0.7700745009996761,0.7729574500734376,0.7615852019142874,0.7711299153807863,0.761880215213119,0.7749022607513174,0.7747419945204294,0.7697380880763789,0.7679292530511878,0.7598479612992397,0.7745910070267754,0.7748607280004327,0.773225658197098,0.7614918725862495,0.7733319167020825,0.7748705572153056,0.7749232028401664,0.7754399922591466,0.7753361828576351,0.7756782684617293,0.7596869053796921,0.7750016196255426,0.7731208185753641,0.7746572001517534,0.7754162048147392,0.7746706332341691,0.7754315726032116,0.7702033107432508,0.7672306120131713,0.7753365643511039,0.7745940986964222,0.7753885229669809,0.7706306106616424,0.7755343651118237,0.7747831902087955,0.7681658555313406,0.7750342498486634,0.7745241740225618,0.7729279594334674,0.7689556908979159,0.77570123554859,0.775933343328978,0.7760758570386579,0.7758100092083002,0.7759524267898779,0.7758294653601513,0.7758644707092571,0.7760226638622999,0.773832753752739,0.7759786534072034,0.7756536648092585,0.7755853272268117,0.7748536743984392,0.7759238978719749,0.7758637302870357,0.7700732364267748,0.7710846042241198,0.775862622372011,0.7755062514794809,0.7740650875341378,0.775641991519039,0.7676749394810073,0.7705403158769741,0.7758809039305987,0.7745618044409485,0.7744986556425816,0.7753187810676465,0.7680185504114184,0.7757534261230515,0.7758215962441314,0.7754471890971039,0.775561737641772,0.7605970792692786,0.7759099139639785,0.7761917529090031,0.772944534984195,0.7705632506404356,0.775203200136176,0.7752649873406858,0.7750082447685613,0.7748107832298665,0.7747279001858243,0.7700734802939211,0.7757604440046464,0.7746854663774404,0.7757978153780253,0.7758629922777855,0.7751963138425596,0.7759363677293485,0.7757037483064881,0.7759104241152669,0.7760681191010512],\"type\":\"scatter\",\"xaxis\":\"x\",\"yaxis\":\"y\"},{\"marker\":{\"color\":[0,1,2,3,4,5,6,7,8,9,10,11,12,13,14,15,16,17,18,19,20,21,22,23,24,25,26,27,28,29,30,31,32,33,34,35,36,37,38,39,40,41,42,43,44,45,46,47,48,49,50,51,52,53,54,55,56,57,58,59,60,61,62,63,64,65,66,67,68,69,70,71,72,73,74,75,76,77,78,79,80,81,82,83,84,85,86,87,88,89,90,91,92,93,94,95,96,97,98,99],\"colorbar\":{\"title\":{\"text\":\"Trial\"},\"x\":1.0,\"xpad\":40},\"colorscale\":[[0.0,\"rgb(247,251,255)\"],[0.125,\"rgb(222,235,247)\"],[0.25,\"rgb(198,219,239)\"],[0.375,\"rgb(158,202,225)\"],[0.5,\"rgb(107,174,214)\"],[0.625,\"rgb(66,146,198)\"],[0.75,\"rgb(33,113,181)\"],[0.875,\"rgb(8,81,156)\"],[1.0,\"rgb(8,48,107)\"]],\"line\":{\"color\":\"Grey\",\"width\":0.5},\"showscale\":false},\"mode\":\"markers\",\"showlegend\":false,\"x\":[0.44,0.3,0.08,0.45,0.62,0.89,0.16,0.68,0.08,0.2,0.43,0.27,0.29000000000000004,0.59,0.62,0.63,0.8,0.54,0.75,0.53,0.54,0.54,0.72,0.36000000000000004,0.38,0.33,0.38,0.36000000000000004,0.23,0.36000000000000004,0.41000000000000003,0.33,0.48000000000000004,0.49,0.46,0.47000000000000003,0.17,0.27,0.45,0.11,0.33,0.01,0.5,0.04,0.03,0.13,0.21000000000000002,0.42000000000000004,0.3,0.25,0.24000000000000002,0.23,0.26,0.25,0.25,0.24000000000000002,0.16,0.25,0.19,0.26,0.13,0.24000000000000002,0.29000000000000004,0.21000000000000002,0.18000000000000002,0.24000000000000002,0.08,0.31,0.14,0.22,0.89,0.28,0.28,0.26,0.32,0.2,0.38,0.24000000000000002,0.28,0.15000000000000002,0.35000000000000003,0.29000000000000004,0.3,0.3,0.4,0.18000000000000002,0.33,0.22,0.27,0.34,0.31,0.24000000000000002,0.26,0.19,0.29000000000000004,0.21000000000000002,0.09999999999999999,0.11,0.060000000000000005,0.060000000000000005],\"y\":[0.7744191484386624,0.7667072934583271,0.7726057418365112,0.7690073620460636,0.7713825230714886,0.7679132815757153,0.769229040991249,0.7596416723398277,0.7700745009996761,0.7729574500734376,0.7615852019142874,0.7711299153807863,0.761880215213119,0.7749022607513174,0.7747419945204294,0.7697380880763789,0.7679292530511878,0.7598479612992397,0.7745910070267754,0.7748607280004327,0.773225658197098,0.7614918725862495,0.7733319167020825,0.7748705572153056,0.7749232028401664,0.7754399922591466,0.7753361828576351,0.7756782684617293,0.7596869053796921,0.7750016196255426,0.7731208185753641,0.7746572001517534,0.7754162048147392,0.7746706332341691,0.7754315726032116,0.7702033107432508,0.7672306120131713,0.7753365643511039,0.7745940986964222,0.7753885229669809,0.7706306106616424,0.7755343651118237,0.7747831902087955,0.7681658555313406,0.7750342498486634,0.7745241740225618,0.7729279594334674,0.7689556908979159,0.77570123554859,0.775933343328978,0.7760758570386579,0.7758100092083002,0.7759524267898779,0.7758294653601513,0.7758644707092571,0.7760226638622999,0.773832753752739,0.7759786534072034,0.7756536648092585,0.7755853272268117,0.7748536743984392,0.7759238978719749,0.7758637302870357,0.7700732364267748,0.7710846042241198,0.775862622372011,0.7755062514794809,0.7740650875341378,0.775641991519039,0.7676749394810073,0.7705403158769741,0.7758809039305987,0.7745618044409485,0.7744986556425816,0.7753187810676465,0.7680185504114184,0.7757534261230515,0.7758215962441314,0.7754471890971039,0.775561737641772,0.7605970792692786,0.7759099139639785,0.7761917529090031,0.772944534984195,0.7705632506404356,0.775203200136176,0.7752649873406858,0.7750082447685613,0.7748107832298665,0.7747279001858243,0.7700734802939211,0.7757604440046464,0.7746854663774404,0.7757978153780253,0.7758629922777855,0.7751963138425596,0.7759363677293485,0.7757037483064881,0.7759104241152669,0.7760681191010512],\"type\":\"scatter\",\"xaxis\":\"x2\",\"yaxis\":\"y2\"},{\"marker\":{\"color\":[0,1,2,3,4,5,6,7,8,9,10,11,12,13,14,15,16,17,18,19,20,21,22,23,24,25,26,27,28,29,30,31,32,33,34,35,36,37,38,39,40,41,42,43,44,45,46,47,48,49,50,51,52,53,54,55,56,57,58,59,60,61,62,63,64,65,66,67,68,69,70,71,72,73,74,75,76,77,78,79,80,81,82,83,84,85,86,87,88,89,90,91,92,93,94,95,96,97,98,99],\"colorbar\":{\"title\":{\"text\":\"Trial\"},\"x\":1.0,\"xpad\":40},\"colorscale\":[[0.0,\"rgb(247,251,255)\"],[0.125,\"rgb(222,235,247)\"],[0.25,\"rgb(198,219,239)\"],[0.375,\"rgb(158,202,225)\"],[0.5,\"rgb(107,174,214)\"],[0.625,\"rgb(66,146,198)\"],[0.75,\"rgb(33,113,181)\"],[0.875,\"rgb(8,81,156)\"],[1.0,\"rgb(8,48,107)\"]],\"line\":{\"color\":\"Grey\",\"width\":0.5},\"showscale\":false},\"mode\":\"markers\",\"showlegend\":false,\"x\":[0.0076,0.039,0.014600000000000002,0.0499,0.02,0.0262,0.0376,0.005,0.0337,0.024800000000000003,0.004,0.0139,0.0267,0.0115,0.010100000000000001,0.012199999999999999,0.0193,0.002,0.0104,0.0175,0.019000000000000003,0.0085,0.0161,0.022400000000000003,0.022400000000000003,0.030600000000000002,0.030500000000000003,0.030900000000000004,0.0307,0.043100000000000006,0.0307,0.044700000000000004,0.0398,0.037700000000000004,0.033600000000000005,0.0352,0.042300000000000004,0.040100000000000004,0.048600000000000004,0.033,0.035300000000000005,0.0333,0.0284,0.0396,0.033100000000000004,0.0359,0.027500000000000004,0.0296,0.024900000000000002,0.024200000000000003,0.0251,0.024200000000000003,0.023500000000000004,0.024,0.021,0.0223,0.0217,0.020900000000000002,0.0206,0.017,0.015,0.0233,0.019200000000000002,0.0261,0.023200000000000002,0.021,0.018600000000000002,0.025500000000000002,0.027000000000000003,0.023100000000000002,0.0204,0.0187,0.0175,0.014700000000000001,0.022000000000000002,0.028600000000000004,0.0183,0.023700000000000002,0.0199,0.016300000000000002,0.013400000000000002,0.0194,0.0216,0.024800000000000003,0.0227,0.021800000000000003,0.0267,0.0182,0.0158,0.019600000000000003,0.028300000000000002,0.0217,0.025300000000000003,0.020700000000000003,0.024100000000000003,0.0229,0.0211,0.017400000000000002,0.026000000000000002,0.027500000000000004],\"y\":[0.7744191484386624,0.7667072934583271,0.7726057418365112,0.7690073620460636,0.7713825230714886,0.7679132815757153,0.769229040991249,0.7596416723398277,0.7700745009996761,0.7729574500734376,0.7615852019142874,0.7711299153807863,0.761880215213119,0.7749022607513174,0.7747419945204294,0.7697380880763789,0.7679292530511878,0.7598479612992397,0.7745910070267754,0.7748607280004327,0.773225658197098,0.7614918725862495,0.7733319167020825,0.7748705572153056,0.7749232028401664,0.7754399922591466,0.7753361828576351,0.7756782684617293,0.7596869053796921,0.7750016196255426,0.7731208185753641,0.7746572001517534,0.7754162048147392,0.7746706332341691,0.7754315726032116,0.7702033107432508,0.7672306120131713,0.7753365643511039,0.7745940986964222,0.7753885229669809,0.7706306106616424,0.7755343651118237,0.7747831902087955,0.7681658555313406,0.7750342498486634,0.7745241740225618,0.7729279594334674,0.7689556908979159,0.77570123554859,0.775933343328978,0.7760758570386579,0.7758100092083002,0.7759524267898779,0.7758294653601513,0.7758644707092571,0.7760226638622999,0.773832753752739,0.7759786534072034,0.7756536648092585,0.7755853272268117,0.7748536743984392,0.7759238978719749,0.7758637302870357,0.7700732364267748,0.7710846042241198,0.775862622372011,0.7755062514794809,0.7740650875341378,0.775641991519039,0.7676749394810073,0.7705403158769741,0.7758809039305987,0.7745618044409485,0.7744986556425816,0.7753187810676465,0.7680185504114184,0.7757534261230515,0.7758215962441314,0.7754471890971039,0.775561737641772,0.7605970792692786,0.7759099139639785,0.7761917529090031,0.772944534984195,0.7705632506404356,0.775203200136176,0.7752649873406858,0.7750082447685613,0.7748107832298665,0.7747279001858243,0.7700734802939211,0.7757604440046464,0.7746854663774404,0.7757978153780253,0.7758629922777855,0.7751963138425596,0.7759363677293485,0.7757037483064881,0.7759104241152669,0.7760681191010512],\"type\":\"scatter\",\"xaxis\":\"x3\",\"yaxis\":\"y3\"},{\"marker\":{\"color\":[0,1,2,3,4,5,6,7,8,9,10,11,12,13,14,15,16,17,18,19,20,21,22,23,24,25,26,27,28,29,30,31,32,33,34,35,36,37,38,39,40,41,42,43,44,45,46,47,48,49,50,51,52,53,54,55,56,57,58,59,60,61,62,63,64,65,66,67,68,69,70,71,72,73,74,75,76,77,78,79,80,81,82,83,84,85,86,87,88,89,90,91,92,93,94,95,96,97,98,99],\"colorbar\":{\"title\":{\"text\":\"Trial\"},\"x\":1.0,\"xpad\":40},\"colorscale\":[[0.0,\"rgb(247,251,255)\"],[0.125,\"rgb(222,235,247)\"],[0.25,\"rgb(198,219,239)\"],[0.375,\"rgb(158,202,225)\"],[0.5,\"rgb(107,174,214)\"],[0.625,\"rgb(66,146,198)\"],[0.75,\"rgb(33,113,181)\"],[0.875,\"rgb(8,81,156)\"],[1.0,\"rgb(8,48,107)\"]],\"line\":{\"color\":\"Grey\",\"width\":0.5},\"showscale\":false},\"mode\":\"markers\",\"showlegend\":false,\"x\":[134,130,142,74,114,132,80,41,75,81,197,159,29,95,177,196,164,106,173,101,104,89,59,54,55,53,55,56,20,40,66,42,41,30,49,67,118,43,26,48,65,48,37,79,35,51,73,85,62,63,62,62,62,70,73,72,91,73,75,83,126,70,79,93,99,70,88,75,63,144,113,80,59,70,83,97,77,58,67,88,45,79,71,80,105,60,54,66,69,51,86,77,74,73,64,81,72,94,57,58],\"y\":[0.7744191484386624,0.7667072934583271,0.7726057418365112,0.7690073620460636,0.7713825230714886,0.7679132815757153,0.769229040991249,0.7596416723398277,0.7700745009996761,0.7729574500734376,0.7615852019142874,0.7711299153807863,0.761880215213119,0.7749022607513174,0.7747419945204294,0.7697380880763789,0.7679292530511878,0.7598479612992397,0.7745910070267754,0.7748607280004327,0.773225658197098,0.7614918725862495,0.7733319167020825,0.7748705572153056,0.7749232028401664,0.7754399922591466,0.7753361828576351,0.7756782684617293,0.7596869053796921,0.7750016196255426,0.7731208185753641,0.7746572001517534,0.7754162048147392,0.7746706332341691,0.7754315726032116,0.7702033107432508,0.7672306120131713,0.7753365643511039,0.7745940986964222,0.7753885229669809,0.7706306106616424,0.7755343651118237,0.7747831902087955,0.7681658555313406,0.7750342498486634,0.7745241740225618,0.7729279594334674,0.7689556908979159,0.77570123554859,0.775933343328978,0.7760758570386579,0.7758100092083002,0.7759524267898779,0.7758294653601513,0.7758644707092571,0.7760226638622999,0.773832753752739,0.7759786534072034,0.7756536648092585,0.7755853272268117,0.7748536743984392,0.7759238978719749,0.7758637302870357,0.7700732364267748,0.7710846042241198,0.775862622372011,0.7755062514794809,0.7740650875341378,0.775641991519039,0.7676749394810073,0.7705403158769741,0.7758809039305987,0.7745618044409485,0.7744986556425816,0.7753187810676465,0.7680185504114184,0.7757534261230515,0.7758215962441314,0.7754471890971039,0.775561737641772,0.7605970792692786,0.7759099139639785,0.7761917529090031,0.772944534984195,0.7705632506404356,0.775203200136176,0.7752649873406858,0.7750082447685613,0.7748107832298665,0.7747279001858243,0.7700734802939211,0.7757604440046464,0.7746854663774404,0.7757978153780253,0.7758629922777855,0.7751963138425596,0.7759363677293485,0.7757037483064881,0.7759104241152669,0.7760681191010512],\"type\":\"scatter\",\"xaxis\":\"x4\",\"yaxis\":\"y4\"}],                        {\"template\":{\"data\":{\"histogram2dcontour\":[{\"type\":\"histogram2dcontour\",\"colorbar\":{\"outlinewidth\":0,\"ticks\":\"\"},\"colorscale\":[[0.0,\"#0d0887\"],[0.1111111111111111,\"#46039f\"],[0.2222222222222222,\"#7201a8\"],[0.3333333333333333,\"#9c179e\"],[0.4444444444444444,\"#bd3786\"],[0.5555555555555556,\"#d8576b\"],[0.6666666666666666,\"#ed7953\"],[0.7777777777777778,\"#fb9f3a\"],[0.8888888888888888,\"#fdca26\"],[1.0,\"#f0f921\"]]}],\"choropleth\":[{\"type\":\"choropleth\",\"colorbar\":{\"outlinewidth\":0,\"ticks\":\"\"}}],\"histogram2d\":[{\"type\":\"histogram2d\",\"colorbar\":{\"outlinewidth\":0,\"ticks\":\"\"},\"colorscale\":[[0.0,\"#0d0887\"],[0.1111111111111111,\"#46039f\"],[0.2222222222222222,\"#7201a8\"],[0.3333333333333333,\"#9c179e\"],[0.4444444444444444,\"#bd3786\"],[0.5555555555555556,\"#d8576b\"],[0.6666666666666666,\"#ed7953\"],[0.7777777777777778,\"#fb9f3a\"],[0.8888888888888888,\"#fdca26\"],[1.0,\"#f0f921\"]]}],\"heatmap\":[{\"type\":\"heatmap\",\"colorbar\":{\"outlinewidth\":0,\"ticks\":\"\"},\"colorscale\":[[0.0,\"#0d0887\"],[0.1111111111111111,\"#46039f\"],[0.2222222222222222,\"#7201a8\"],[0.3333333333333333,\"#9c179e\"],[0.4444444444444444,\"#bd3786\"],[0.5555555555555556,\"#d8576b\"],[0.6666666666666666,\"#ed7953\"],[0.7777777777777778,\"#fb9f3a\"],[0.8888888888888888,\"#fdca26\"],[1.0,\"#f0f921\"]]}],\"heatmapgl\":[{\"type\":\"heatmapgl\",\"colorbar\":{\"outlinewidth\":0,\"ticks\":\"\"},\"colorscale\":[[0.0,\"#0d0887\"],[0.1111111111111111,\"#46039f\"],[0.2222222222222222,\"#7201a8\"],[0.3333333333333333,\"#9c179e\"],[0.4444444444444444,\"#bd3786\"],[0.5555555555555556,\"#d8576b\"],[0.6666666666666666,\"#ed7953\"],[0.7777777777777778,\"#fb9f3a\"],[0.8888888888888888,\"#fdca26\"],[1.0,\"#f0f921\"]]}],\"contourcarpet\":[{\"type\":\"contourcarpet\",\"colorbar\":{\"outlinewidth\":0,\"ticks\":\"\"}}],\"contour\":[{\"type\":\"contour\",\"colorbar\":{\"outlinewidth\":0,\"ticks\":\"\"},\"colorscale\":[[0.0,\"#0d0887\"],[0.1111111111111111,\"#46039f\"],[0.2222222222222222,\"#7201a8\"],[0.3333333333333333,\"#9c179e\"],[0.4444444444444444,\"#bd3786\"],[0.5555555555555556,\"#d8576b\"],[0.6666666666666666,\"#ed7953\"],[0.7777777777777778,\"#fb9f3a\"],[0.8888888888888888,\"#fdca26\"],[1.0,\"#f0f921\"]]}],\"surface\":[{\"type\":\"surface\",\"colorbar\":{\"outlinewidth\":0,\"ticks\":\"\"},\"colorscale\":[[0.0,\"#0d0887\"],[0.1111111111111111,\"#46039f\"],[0.2222222222222222,\"#7201a8\"],[0.3333333333333333,\"#9c179e\"],[0.4444444444444444,\"#bd3786\"],[0.5555555555555556,\"#d8576b\"],[0.6666666666666666,\"#ed7953\"],[0.7777777777777778,\"#fb9f3a\"],[0.8888888888888888,\"#fdca26\"],[1.0,\"#f0f921\"]]}],\"mesh3d\":[{\"type\":\"mesh3d\",\"colorbar\":{\"outlinewidth\":0,\"ticks\":\"\"}}],\"scatter\":[{\"fillpattern\":{\"fillmode\":\"overlay\",\"size\":10,\"solidity\":0.2},\"type\":\"scatter\"}],\"parcoords\":[{\"type\":\"parcoords\",\"line\":{\"colorbar\":{\"outlinewidth\":0,\"ticks\":\"\"}}}],\"scatterpolargl\":[{\"type\":\"scatterpolargl\",\"marker\":{\"colorbar\":{\"outlinewidth\":0,\"ticks\":\"\"}}}],\"bar\":[{\"error_x\":{\"color\":\"#2a3f5f\"},\"error_y\":{\"color\":\"#2a3f5f\"},\"marker\":{\"line\":{\"color\":\"#E5ECF6\",\"width\":0.5},\"pattern\":{\"fillmode\":\"overlay\",\"size\":10,\"solidity\":0.2}},\"type\":\"bar\"}],\"scattergeo\":[{\"type\":\"scattergeo\",\"marker\":{\"colorbar\":{\"outlinewidth\":0,\"ticks\":\"\"}}}],\"scatterpolar\":[{\"type\":\"scatterpolar\",\"marker\":{\"colorbar\":{\"outlinewidth\":0,\"ticks\":\"\"}}}],\"histogram\":[{\"marker\":{\"pattern\":{\"fillmode\":\"overlay\",\"size\":10,\"solidity\":0.2}},\"type\":\"histogram\"}],\"scattergl\":[{\"type\":\"scattergl\",\"marker\":{\"colorbar\":{\"outlinewidth\":0,\"ticks\":\"\"}}}],\"scatter3d\":[{\"type\":\"scatter3d\",\"line\":{\"colorbar\":{\"outlinewidth\":0,\"ticks\":\"\"}},\"marker\":{\"colorbar\":{\"outlinewidth\":0,\"ticks\":\"\"}}}],\"scattermapbox\":[{\"type\":\"scattermapbox\",\"marker\":{\"colorbar\":{\"outlinewidth\":0,\"ticks\":\"\"}}}],\"scatterternary\":[{\"type\":\"scatterternary\",\"marker\":{\"colorbar\":{\"outlinewidth\":0,\"ticks\":\"\"}}}],\"scattercarpet\":[{\"type\":\"scattercarpet\",\"marker\":{\"colorbar\":{\"outlinewidth\":0,\"ticks\":\"\"}}}],\"carpet\":[{\"aaxis\":{\"endlinecolor\":\"#2a3f5f\",\"gridcolor\":\"white\",\"linecolor\":\"white\",\"minorgridcolor\":\"white\",\"startlinecolor\":\"#2a3f5f\"},\"baxis\":{\"endlinecolor\":\"#2a3f5f\",\"gridcolor\":\"white\",\"linecolor\":\"white\",\"minorgridcolor\":\"white\",\"startlinecolor\":\"#2a3f5f\"},\"type\":\"carpet\"}],\"table\":[{\"cells\":{\"fill\":{\"color\":\"#EBF0F8\"},\"line\":{\"color\":\"white\"}},\"header\":{\"fill\":{\"color\":\"#C8D4E3\"},\"line\":{\"color\":\"white\"}},\"type\":\"table\"}],\"barpolar\":[{\"marker\":{\"line\":{\"color\":\"#E5ECF6\",\"width\":0.5},\"pattern\":{\"fillmode\":\"overlay\",\"size\":10,\"solidity\":0.2}},\"type\":\"barpolar\"}],\"pie\":[{\"automargin\":true,\"type\":\"pie\"}]},\"layout\":{\"autotypenumbers\":\"strict\",\"colorway\":[\"#636efa\",\"#EF553B\",\"#00cc96\",\"#ab63fa\",\"#FFA15A\",\"#19d3f3\",\"#FF6692\",\"#B6E880\",\"#FF97FF\",\"#FECB52\"],\"font\":{\"color\":\"#2a3f5f\"},\"hovermode\":\"closest\",\"hoverlabel\":{\"align\":\"left\"},\"paper_bgcolor\":\"white\",\"plot_bgcolor\":\"#E5ECF6\",\"polar\":{\"bgcolor\":\"#E5ECF6\",\"angularaxis\":{\"gridcolor\":\"white\",\"linecolor\":\"white\",\"ticks\":\"\"},\"radialaxis\":{\"gridcolor\":\"white\",\"linecolor\":\"white\",\"ticks\":\"\"}},\"ternary\":{\"bgcolor\":\"#E5ECF6\",\"aaxis\":{\"gridcolor\":\"white\",\"linecolor\":\"white\",\"ticks\":\"\"},\"baxis\":{\"gridcolor\":\"white\",\"linecolor\":\"white\",\"ticks\":\"\"},\"caxis\":{\"gridcolor\":\"white\",\"linecolor\":\"white\",\"ticks\":\"\"}},\"coloraxis\":{\"colorbar\":{\"outlinewidth\":0,\"ticks\":\"\"}},\"colorscale\":{\"sequential\":[[0.0,\"#0d0887\"],[0.1111111111111111,\"#46039f\"],[0.2222222222222222,\"#7201a8\"],[0.3333333333333333,\"#9c179e\"],[0.4444444444444444,\"#bd3786\"],[0.5555555555555556,\"#d8576b\"],[0.6666666666666666,\"#ed7953\"],[0.7777777777777778,\"#fb9f3a\"],[0.8888888888888888,\"#fdca26\"],[1.0,\"#f0f921\"]],\"sequentialminus\":[[0.0,\"#0d0887\"],[0.1111111111111111,\"#46039f\"],[0.2222222222222222,\"#7201a8\"],[0.3333333333333333,\"#9c179e\"],[0.4444444444444444,\"#bd3786\"],[0.5555555555555556,\"#d8576b\"],[0.6666666666666666,\"#ed7953\"],[0.7777777777777778,\"#fb9f3a\"],[0.8888888888888888,\"#fdca26\"],[1.0,\"#f0f921\"]],\"diverging\":[[0,\"#8e0152\"],[0.1,\"#c51b7d\"],[0.2,\"#de77ae\"],[0.3,\"#f1b6da\"],[0.4,\"#fde0ef\"],[0.5,\"#f7f7f7\"],[0.6,\"#e6f5d0\"],[0.7,\"#b8e186\"],[0.8,\"#7fbc41\"],[0.9,\"#4d9221\"],[1,\"#276419\"]]},\"xaxis\":{\"gridcolor\":\"white\",\"linecolor\":\"white\",\"ticks\":\"\",\"title\":{\"standoff\":15},\"zerolinecolor\":\"white\",\"automargin\":true,\"zerolinewidth\":2},\"yaxis\":{\"gridcolor\":\"white\",\"linecolor\":\"white\",\"ticks\":\"\",\"title\":{\"standoff\":15},\"zerolinecolor\":\"white\",\"automargin\":true,\"zerolinewidth\":2},\"scene\":{\"xaxis\":{\"backgroundcolor\":\"#E5ECF6\",\"gridcolor\":\"white\",\"linecolor\":\"white\",\"showbackground\":true,\"ticks\":\"\",\"zerolinecolor\":\"white\",\"gridwidth\":2},\"yaxis\":{\"backgroundcolor\":\"#E5ECF6\",\"gridcolor\":\"white\",\"linecolor\":\"white\",\"showbackground\":true,\"ticks\":\"\",\"zerolinecolor\":\"white\",\"gridwidth\":2},\"zaxis\":{\"backgroundcolor\":\"#E5ECF6\",\"gridcolor\":\"white\",\"linecolor\":\"white\",\"showbackground\":true,\"ticks\":\"\",\"zerolinecolor\":\"white\",\"gridwidth\":2}},\"shapedefaults\":{\"line\":{\"color\":\"#2a3f5f\"}},\"annotationdefaults\":{\"arrowcolor\":\"#2a3f5f\",\"arrowhead\":0,\"arrowwidth\":1},\"geo\":{\"bgcolor\":\"white\",\"landcolor\":\"#E5ECF6\",\"subunitcolor\":\"white\",\"showland\":true,\"showlakes\":true,\"lakecolor\":\"white\"},\"title\":{\"x\":0.05},\"mapbox\":{\"style\":\"light\"}}},\"xaxis\":{\"anchor\":\"y\",\"domain\":[0.0,0.2125],\"title\":{\"text\":\"depth\"}},\"yaxis\":{\"anchor\":\"x\",\"domain\":[0.0,1.0],\"title\":{\"text\":\"Objective Value\"}},\"xaxis2\":{\"anchor\":\"y2\",\"domain\":[0.2625,0.475],\"title\":{\"text\":\"l2_leaf_reg\"}},\"yaxis2\":{\"anchor\":\"x2\",\"domain\":[0.0,1.0],\"matches\":\"y\",\"showticklabels\":false},\"xaxis3\":{\"anchor\":\"y3\",\"domain\":[0.525,0.7375],\"title\":{\"text\":\"learning_rate\"}},\"yaxis3\":{\"anchor\":\"x3\",\"domain\":[0.0,1.0],\"matches\":\"y\",\"showticklabels\":false},\"xaxis4\":{\"anchor\":\"y4\",\"domain\":[0.7875,1.0],\"title\":{\"text\":\"n_estimators\"}},\"yaxis4\":{\"anchor\":\"x4\",\"domain\":[0.0,1.0],\"matches\":\"y\",\"showticklabels\":false},\"title\":{\"text\":\"Slice Plot\"},\"width\":1200},                        {\"responsive\": true}                    ).then(function(){\n",
       "                            \n",
       "var gd = document.getElementById('9f76b6fb-b3e1-42af-bfa9-0cbd0ed31f3d');\n",
       "var x = new MutationObserver(function (mutations, observer) {{\n",
       "        var display = window.getComputedStyle(gd).display;\n",
       "        if (!display || display === 'none') {{\n",
       "            console.log([gd, 'removed!']);\n",
       "            Plotly.purge(gd);\n",
       "            observer.disconnect();\n",
       "        }}\n",
       "}});\n",
       "\n",
       "// Listen for the removal of the full notebook cells\n",
       "var notebookContainer = gd.closest('#notebook-container');\n",
       "if (notebookContainer) {{\n",
       "    x.observe(notebookContainer, {childList: true});\n",
       "}}\n",
       "\n",
       "// Listen for the clearing of the current output cell\n",
       "var outputEl = gd.closest('.output');\n",
       "if (outputEl) {{\n",
       "    x.observe(outputEl, {childList: true});\n",
       "}}\n",
       "\n",
       "                        })                };                });            </script>        </div>"
      ]
     },
     "metadata": {},
     "output_type": "display_data"
    }
   ],
   "source": [
    "params = study.best_params.keys()\n",
    "plot_slice(study, params=params)"
   ]
  },
  {
   "cell_type": "markdown",
   "id": "56261613",
   "metadata": {},
   "source": [
    "Результат:\n",
    "\n",
    "- качество модели незначительно улучшается с повышением глубины деревьев\n",
    "- найден оптимальный диапазон learning_rate(0,1-0,3)\n",
    "- найден оптимальный диапазон n_estimators (110-200 деревьев)\n",
    "- небольшая регуляризация (ненулевой l2_leaf_reg) положительно влияет на модель"
   ]
  },
  {
   "cell_type": "markdown",
   "id": "7ae80e2b",
   "metadata": {},
   "source": [
    "## Но для предсказания обычно у нас нет данных об оценках данного пассажира\n",
    "## Научимся предсказывать только на том, что реально есть"
   ]
  },
  {
   "cell_type": "code",
   "execution_count": 5,
   "id": "5b442591",
   "metadata": {},
   "outputs": [
    {
     "data": {
      "text/plain": [
       "Index(['gender', 'age', 'customer_type', 'type_of_travel', 'class',\n",
       "       'flight_distance', 'комфорт, еда, развлечения', 'сервис/обслуживание',\n",
       "       'интернет сервис', 'основные функции'],\n",
       "      dtype='object')"
      ]
     },
     "execution_count": 5,
     "metadata": {},
     "output_type": "execute_result"
    }
   ],
   "source": [
    "X.columns"
   ]
  },
  {
   "cell_type": "code",
   "execution_count": 6,
   "id": "d75cabe0",
   "metadata": {},
   "outputs": [],
   "source": [
    "X = X[['gender', 'age', 'customer_type', 'type_of_travel', 'class','flight_distance']]"
   ]
  },
  {
   "cell_type": "code",
   "execution_count": 14,
   "id": "572f751b",
   "metadata": {},
   "outputs": [
    {
     "name": "stderr",
     "output_type": "stream",
     "text": [
      "[I 2024-01-22 22:22:32,181] A new study created in memory with name: no-name-86c0d0c6-1154-42f0-8055-6cf6c9a5b0a8\n",
      "[I 2024-01-22 22:22:41,117] Trial 0 finished with value: 0.7744191484386624 and parameters: {'depth': 12, 'n_estimators': 134, 'l2_leaf_reg': 0.44, 'learning_rate': 0.0076}. Best is trial 0 with value: 0.7744191484386624.\n",
      "[I 2024-01-22 22:22:47,781] Trial 1 finished with value: 0.7667072934583271 and parameters: {'depth': 10, 'n_estimators': 130, 'l2_leaf_reg': 0.3, 'learning_rate': 0.039}. Best is trial 0 with value: 0.7744191484386624.\n",
      "[I 2024-01-22 22:22:56,009] Trial 2 finished with value: 0.7726057418365112 and parameters: {'depth': 11, 'n_estimators': 142, 'l2_leaf_reg': 0.08, 'learning_rate': 0.014600000000000002}. Best is trial 0 with value: 0.7744191484386624.\n",
      "[I 2024-01-22 22:23:42,991] Trial 3 finished with value: 0.7690073620460636 and parameters: {'depth': 16, 'n_estimators': 74, 'l2_leaf_reg': 0.45, 'learning_rate': 0.0499}. Best is trial 0 with value: 0.7744191484386624.\n",
      "[I 2024-01-22 22:23:50,101] Trial 4 finished with value: 0.7713825230714886 and parameters: {'depth': 11, 'n_estimators': 114, 'l2_leaf_reg': 0.62, 'learning_rate': 0.02}. Best is trial 0 with value: 0.7744191484386624.\n",
      "[I 2024-01-22 22:25:14,963] Trial 5 finished with value: 0.7679132815757153 and parameters: {'depth': 16, 'n_estimators': 132, 'l2_leaf_reg': 0.89, 'learning_rate': 0.0262}. Best is trial 0 with value: 0.7744191484386624.\n",
      "[I 2024-01-22 22:26:01,288] Trial 6 finished with value: 0.769229040991249 and parameters: {'depth': 16, 'n_estimators': 80, 'l2_leaf_reg': 0.16, 'learning_rate': 0.0376}. Best is trial 0 with value: 0.7744191484386624.\n",
      "[I 2024-01-22 22:26:04,654] Trial 7 finished with value: 0.7596416723398277 and parameters: {'depth': 12, 'n_estimators': 41, 'l2_leaf_reg': 0.68, 'learning_rate': 0.005}. Best is trial 0 with value: 0.7744191484386624.\n",
      "[I 2024-01-22 22:26:18,628] Trial 8 finished with value: 0.7700745009996761 and parameters: {'depth': 14, 'n_estimators': 75, 'l2_leaf_reg': 0.08, 'learning_rate': 0.0337}. Best is trial 0 with value: 0.7744191484386624.\n",
      "[I 2024-01-22 22:26:52,751] Trial 9 finished with value: 0.7729574500734376 and parameters: {'depth': 16, 'n_estimators': 81, 'l2_leaf_reg': 0.2, 'learning_rate': 0.024800000000000003}. Best is trial 0 with value: 0.7744191484386624.\n",
      "[I 2024-01-22 22:27:11,854] Trial 10 finished with value: 0.7615852019142874 and parameters: {'depth': 14, 'n_estimators': 197, 'l2_leaf_reg': 0.43, 'learning_rate': 0.004}. Best is trial 0 with value: 0.7744191484386624.\n",
      "[I 2024-01-22 22:27:30,497] Trial 11 finished with value: 0.7711299153807863 and parameters: {'depth': 13, 'n_estimators': 159, 'l2_leaf_reg': 0.27, 'learning_rate': 0.0139}. Best is trial 0 with value: 0.7744191484386624.\n",
      "[I 2024-01-22 22:27:34,256] Trial 12 finished with value: 0.761880215213119 and parameters: {'depth': 14, 'n_estimators': 29, 'l2_leaf_reg': 0.29000000000000004, 'learning_rate': 0.0267}. Best is trial 0 with value: 0.7744191484386624.\n",
      "[I 2024-01-22 22:27:43,576] Trial 13 finished with value: 0.7749022607513174 and parameters: {'depth': 13, 'n_estimators': 95, 'l2_leaf_reg': 0.59, 'learning_rate': 0.0115}. Best is trial 13 with value: 0.7749022607513174.\n",
      "[I 2024-01-22 22:28:01,836] Trial 14 finished with value: 0.7747419945204294 and parameters: {'depth': 13, 'n_estimators': 177, 'l2_leaf_reg': 0.62, 'learning_rate': 0.010100000000000001}. Best is trial 13 with value: 0.7749022607513174.\n",
      "[I 2024-01-22 22:28:24,728] Trial 15 finished with value: 0.7697380880763789 and parameters: {'depth': 13, 'n_estimators': 196, 'l2_leaf_reg': 0.63, 'learning_rate': 0.012199999999999999}. Best is trial 13 with value: 0.7749022607513174.\n",
      "[I 2024-01-22 22:28:39,111] Trial 16 finished with value: 0.7679292530511878 and parameters: {'depth': 12, 'n_estimators': 164, 'l2_leaf_reg': 0.8, 'learning_rate': 0.0193}. Best is trial 13 with value: 0.7749022607513174.\n",
      "[I 2024-01-22 22:28:51,595] Trial 17 finished with value: 0.7598479612992397 and parameters: {'depth': 15, 'n_estimators': 106, 'l2_leaf_reg': 0.54, 'learning_rate': 0.002}. Best is trial 13 with value: 0.7749022607513174.\n",
      "[I 2024-01-22 22:29:10,247] Trial 18 finished with value: 0.7745910070267754 and parameters: {'depth': 13, 'n_estimators': 173, 'l2_leaf_reg': 0.75, 'learning_rate': 0.0104}. Best is trial 13 with value: 0.7749022607513174.\n",
      "[I 2024-01-22 22:29:36,868] Trial 19 finished with value: 0.7748607280004327 and parameters: {'depth': 15, 'n_estimators': 101, 'l2_leaf_reg': 0.53, 'learning_rate': 0.0175}. Best is trial 13 with value: 0.7749022607513174.\n",
      "[I 2024-01-22 22:30:05,338] Trial 20 finished with value: 0.773225658197098 and parameters: {'depth': 15, 'n_estimators': 104, 'l2_leaf_reg': 0.54, 'learning_rate': 0.019000000000000003}. Best is trial 13 with value: 0.7749022607513174.\n",
      "[I 2024-01-22 22:30:14,670] Trial 21 finished with value: 0.7614918725862495 and parameters: {'depth': 14, 'n_estimators': 89, 'l2_leaf_reg': 0.54, 'learning_rate': 0.0085}. Best is trial 13 with value: 0.7749022607513174.\n",
      "[I 2024-01-22 22:30:25,061] Trial 22 finished with value: 0.7733319167020825 and parameters: {'depth': 15, 'n_estimators': 59, 'l2_leaf_reg': 0.72, 'learning_rate': 0.0161}. Best is trial 13 with value: 0.7749022607513174.\n",
      "[I 2024-01-22 22:30:30,795] Trial 23 finished with value: 0.7748705572153056 and parameters: {'depth': 13, 'n_estimators': 54, 'l2_leaf_reg': 0.36000000000000004, 'learning_rate': 0.022400000000000003}. Best is trial 13 with value: 0.7749022607513174.\n",
      "[I 2024-01-22 22:30:35,332] Trial 24 finished with value: 0.7749232028401664 and parameters: {'depth': 12, 'n_estimators': 55, 'l2_leaf_reg': 0.38, 'learning_rate': 0.022400000000000003}. Best is trial 24 with value: 0.7749232028401664.\n",
      "[I 2024-01-22 22:30:39,083] Trial 25 finished with value: 0.7754399922591466 and parameters: {'depth': 11, 'n_estimators': 53, 'l2_leaf_reg': 0.33, 'learning_rate': 0.030600000000000002}. Best is trial 25 with value: 0.7754399922591466.\n",
      "[I 2024-01-22 22:30:42,919] Trial 26 finished with value: 0.7753361828576351 and parameters: {'depth': 11, 'n_estimators': 55, 'l2_leaf_reg': 0.38, 'learning_rate': 0.030500000000000003}. Best is trial 25 with value: 0.7754399922591466.\n",
      "[I 2024-01-22 22:30:46,338] Trial 27 finished with value: 0.7756782684617293 and parameters: {'depth': 10, 'n_estimators': 56, 'l2_leaf_reg': 0.36000000000000004, 'learning_rate': 0.030900000000000004}. Best is trial 27 with value: 0.7756782684617293.\n",
      "[I 2024-01-22 22:30:48,257] Trial 28 finished with value: 0.7596869053796921 and parameters: {'depth': 10, 'n_estimators': 20, 'l2_leaf_reg': 0.23, 'learning_rate': 0.0307}. Best is trial 27 with value: 0.7756782684617293.\n",
      "[I 2024-01-22 22:30:51,422] Trial 29 finished with value: 0.7750016196255426 and parameters: {'depth': 11, 'n_estimators': 40, 'l2_leaf_reg': 0.36000000000000004, 'learning_rate': 0.043100000000000006}. Best is trial 27 with value: 0.7756782684617293.\n",
      "[I 2024-01-22 22:30:55,274] Trial 30 finished with value: 0.7731208185753641 and parameters: {'depth': 10, 'n_estimators': 66, 'l2_leaf_reg': 0.41000000000000003, 'learning_rate': 0.0307}. Best is trial 27 with value: 0.7756782684617293.\n",
      "[I 2024-01-22 22:30:58,588] Trial 31 finished with value: 0.7746572001517534 and parameters: {'depth': 11, 'n_estimators': 42, 'l2_leaf_reg': 0.33, 'learning_rate': 0.044700000000000004}. Best is trial 27 with value: 0.7756782684617293.\n",
      "[I 2024-01-22 22:31:01,754] Trial 32 finished with value: 0.7754162048147392 and parameters: {'depth': 11, 'n_estimators': 41, 'l2_leaf_reg': 0.48000000000000004, 'learning_rate': 0.0398}. Best is trial 27 with value: 0.7756782684617293.\n",
      "[I 2024-01-22 22:31:04,086] Trial 33 finished with value: 0.7746706332341691 and parameters: {'depth': 10, 'n_estimators': 30, 'l2_leaf_reg': 0.49, 'learning_rate': 0.037700000000000004}. Best is trial 27 with value: 0.7756782684617293.\n",
      "[I 2024-01-22 22:31:07,624] Trial 34 finished with value: 0.7754315726032116 and parameters: {'depth': 11, 'n_estimators': 49, 'l2_leaf_reg': 0.46, 'learning_rate': 0.033600000000000005}. Best is trial 27 with value: 0.7756782684617293.\n",
      "[I 2024-01-22 22:31:11,600] Trial 35 finished with value: 0.7702033107432508 and parameters: {'depth': 10, 'n_estimators': 67, 'l2_leaf_reg': 0.47000000000000003, 'learning_rate': 0.0352}. Best is trial 27 with value: 0.7756782684617293.\n"
     ]
    },
    {
     "name": "stderr",
     "output_type": "stream",
     "text": [
      "[I 2024-01-22 22:31:19,508] Trial 36 finished with value: 0.7672306120131713 and parameters: {'depth': 11, 'n_estimators': 118, 'l2_leaf_reg': 0.17, 'learning_rate': 0.042300000000000004}. Best is trial 27 with value: 0.7756782684617293.\n",
      "[I 2024-01-22 22:31:22,464] Trial 37 finished with value: 0.7753365643511039 and parameters: {'depth': 10, 'n_estimators': 43, 'l2_leaf_reg': 0.27, 'learning_rate': 0.040100000000000004}. Best is trial 27 with value: 0.7756782684617293.\n",
      "[I 2024-01-22 22:31:24,892] Trial 38 finished with value: 0.7745940986964222 and parameters: {'depth': 11, 'n_estimators': 26, 'l2_leaf_reg': 0.45, 'learning_rate': 0.048600000000000004}. Best is trial 27 with value: 0.7756782684617293.\n",
      "[I 2024-01-22 22:31:29,286] Trial 39 finished with value: 0.7753885229669809 and parameters: {'depth': 12, 'n_estimators': 48, 'l2_leaf_reg': 0.11, 'learning_rate': 0.033}. Best is trial 27 with value: 0.7756782684617293.\n",
      "[I 2024-01-22 22:31:35,192] Trial 40 finished with value: 0.7706306106616424 and parameters: {'depth': 12, 'n_estimators': 65, 'l2_leaf_reg': 0.33, 'learning_rate': 0.035300000000000005}. Best is trial 27 with value: 0.7756782684617293.\n",
      "[I 2024-01-22 22:31:39,517] Trial 41 finished with value: 0.7755343651118237 and parameters: {'depth': 12, 'n_estimators': 48, 'l2_leaf_reg': 0.01, 'learning_rate': 0.0333}. Best is trial 27 with value: 0.7756782684617293.\n",
      "[I 2024-01-22 22:31:42,450] Trial 42 finished with value: 0.7747831902087955 and parameters: {'depth': 11, 'n_estimators': 37, 'l2_leaf_reg': 0.5, 'learning_rate': 0.0284}. Best is trial 27 with value: 0.7756782684617293.\n",
      "[I 2024-01-22 22:31:46,955] Trial 43 finished with value: 0.7681658555313406 and parameters: {'depth': 10, 'n_estimators': 79, 'l2_leaf_reg': 0.04, 'learning_rate': 0.0396}. Best is trial 27 with value: 0.7756782684617293.\n",
      "[I 2024-01-22 22:31:49,722] Trial 44 finished with value: 0.7750342498486634 and parameters: {'depth': 11, 'n_estimators': 35, 'l2_leaf_reg': 0.03, 'learning_rate': 0.033100000000000004}. Best is trial 27 with value: 0.7756782684617293.\n",
      "[I 2024-01-22 22:31:53,486] Trial 45 finished with value: 0.7745241740225618 and parameters: {'depth': 11, 'n_estimators': 51, 'l2_leaf_reg': 0.13, 'learning_rate': 0.0359}. Best is trial 27 with value: 0.7756782684617293.\n",
      "[I 2024-01-22 22:31:59,829] Trial 46 finished with value: 0.7729279594334674 and parameters: {'depth': 12, 'n_estimators': 73, 'l2_leaf_reg': 0.21000000000000002, 'learning_rate': 0.027500000000000004}. Best is trial 27 with value: 0.7756782684617293.\n",
      "[I 2024-01-22 22:32:07,272] Trial 47 finished with value: 0.7689556908979159 and parameters: {'depth': 12, 'n_estimators': 85, 'l2_leaf_reg': 0.42000000000000004, 'learning_rate': 0.0296}. Best is trial 27 with value: 0.7756782684617293.\n",
      "[I 2024-01-22 22:32:11,093] Trial 48 finished with value: 0.77570123554859 and parameters: {'depth': 11, 'n_estimators': 62, 'l2_leaf_reg': 0.3, 'learning_rate': 0.024900000000000002}. Best is trial 48 with value: 0.77570123554859.\n",
      "[I 2024-01-22 22:32:14,813] Trial 49 finished with value: 0.775933343328978 and parameters: {'depth': 10, 'n_estimators': 63, 'l2_leaf_reg': 0.25, 'learning_rate': 0.024200000000000003}. Best is trial 49 with value: 0.775933343328978.\n",
      "[I 2024-01-22 22:32:18,445] Trial 50 finished with value: 0.7760758570386579 and parameters: {'depth': 10, 'n_estimators': 62, 'l2_leaf_reg': 0.24000000000000002, 'learning_rate': 0.0251}. Best is trial 50 with value: 0.7760758570386579.\n",
      "[I 2024-01-22 22:32:21,972] Trial 51 finished with value: 0.7758100092083002 and parameters: {'depth': 10, 'n_estimators': 62, 'l2_leaf_reg': 0.23, 'learning_rate': 0.024200000000000003}. Best is trial 50 with value: 0.7760758570386579.\n",
      "[I 2024-01-22 22:32:25,535] Trial 52 finished with value: 0.7759524267898779 and parameters: {'depth': 10, 'n_estimators': 62, 'l2_leaf_reg': 0.26, 'learning_rate': 0.023500000000000004}. Best is trial 50 with value: 0.7760758570386579.\n",
      "[I 2024-01-22 22:32:29,427] Trial 53 finished with value: 0.7758294653601513 and parameters: {'depth': 10, 'n_estimators': 70, 'l2_leaf_reg': 0.25, 'learning_rate': 0.024}. Best is trial 50 with value: 0.7760758570386579.\n",
      "[I 2024-01-22 22:32:33,412] Trial 54 finished with value: 0.7758644707092571 and parameters: {'depth': 10, 'n_estimators': 73, 'l2_leaf_reg': 0.25, 'learning_rate': 0.021}. Best is trial 50 with value: 0.7760758570386579.\n",
      "[I 2024-01-22 22:32:37,367] Trial 55 finished with value: 0.7760226638622999 and parameters: {'depth': 10, 'n_estimators': 72, 'l2_leaf_reg': 0.24000000000000002, 'learning_rate': 0.0223}. Best is trial 50 with value: 0.7760758570386579.\n",
      "[I 2024-01-22 22:32:42,086] Trial 56 finished with value: 0.773832753752739 and parameters: {'depth': 10, 'n_estimators': 91, 'l2_leaf_reg': 0.16, 'learning_rate': 0.0217}. Best is trial 50 with value: 0.7760758570386579.\n",
      "[I 2024-01-22 22:32:46,046] Trial 57 finished with value: 0.7759786534072034 and parameters: {'depth': 10, 'n_estimators': 73, 'l2_leaf_reg': 0.25, 'learning_rate': 0.020900000000000002}. Best is trial 50 with value: 0.7760758570386579.\n",
      "[I 2024-01-22 22:32:50,148] Trial 58 finished with value: 0.7756536648092585 and parameters: {'depth': 10, 'n_estimators': 75, 'l2_leaf_reg': 0.19, 'learning_rate': 0.0206}. Best is trial 50 with value: 0.7760758570386579.\n",
      "[I 2024-01-22 22:32:54,588] Trial 59 finished with value: 0.7755853272268117 and parameters: {'depth': 10, 'n_estimators': 83, 'l2_leaf_reg': 0.26, 'learning_rate': 0.017}. Best is trial 50 with value: 0.7760758570386579.\n",
      "[I 2024-01-22 22:33:00,740] Trial 60 finished with value: 0.7748536743984392 and parameters: {'depth': 10, 'n_estimators': 126, 'l2_leaf_reg': 0.13, 'learning_rate': 0.015}. Best is trial 50 with value: 0.7760758570386579.\n",
      "[I 2024-01-22 22:33:04,704] Trial 61 finished with value: 0.7759238978719749 and parameters: {'depth': 10, 'n_estimators': 70, 'l2_leaf_reg': 0.24000000000000002, 'learning_rate': 0.0233}. Best is trial 50 with value: 0.7760758570386579.\n",
      "[I 2024-01-22 22:33:08,960] Trial 62 finished with value: 0.7758637302870357 and parameters: {'depth': 10, 'n_estimators': 79, 'l2_leaf_reg': 0.29000000000000004, 'learning_rate': 0.019200000000000002}. Best is trial 50 with value: 0.7760758570386579.\n",
      "[I 2024-01-22 22:33:13,910] Trial 63 finished with value: 0.7700732364267748 and parameters: {'depth': 10, 'n_estimators': 93, 'l2_leaf_reg': 0.21000000000000002, 'learning_rate': 0.0261}. Best is trial 50 with value: 0.7760758570386579.\n",
      "[I 2024-01-22 22:33:18,968] Trial 64 finished with value: 0.7710846042241198 and parameters: {'depth': 10, 'n_estimators': 99, 'l2_leaf_reg': 0.18000000000000002, 'learning_rate': 0.023200000000000002}. Best is trial 50 with value: 0.7760758570386579.\n",
      "[I 2024-01-22 22:33:22,852] Trial 65 finished with value: 0.775862622372011 and parameters: {'depth': 10, 'n_estimators': 70, 'l2_leaf_reg': 0.24000000000000002, 'learning_rate': 0.021}. Best is trial 50 with value: 0.7760758570386579.\n",
      "[I 2024-01-22 22:33:27,458] Trial 66 finished with value: 0.7755062514794809 and parameters: {'depth': 10, 'n_estimators': 88, 'l2_leaf_reg': 0.08, 'learning_rate': 0.018600000000000002}. Best is trial 50 with value: 0.7760758570386579.\n",
      "[I 2024-01-22 22:33:31,645] Trial 67 finished with value: 0.7740650875341378 and parameters: {'depth': 10, 'n_estimators': 75, 'l2_leaf_reg': 0.31, 'learning_rate': 0.025500000000000002}. Best is trial 50 with value: 0.7760758570386579.\n",
      "[I 2024-01-22 22:33:35,199] Trial 68 finished with value: 0.775641991519039 and parameters: {'depth': 10, 'n_estimators': 63, 'l2_leaf_reg': 0.14, 'learning_rate': 0.027000000000000003}. Best is trial 50 with value: 0.7760758570386579.\n",
      "[I 2024-01-22 22:33:42,346] Trial 69 finished with value: 0.7676749394810073 and parameters: {'depth': 10, 'n_estimators': 144, 'l2_leaf_reg': 0.22, 'learning_rate': 0.023100000000000002}. Best is trial 50 with value: 0.7760758570386579.\n",
      "[I 2024-01-22 22:33:49,257] Trial 70 finished with value: 0.7705403158769741 and parameters: {'depth': 11, 'n_estimators': 113, 'l2_leaf_reg': 0.89, 'learning_rate': 0.0204}. Best is trial 50 with value: 0.7760758570386579.\n",
      "[I 2024-01-22 22:33:53,583] Trial 71 finished with value: 0.7758809039305987 and parameters: {'depth': 10, 'n_estimators': 80, 'l2_leaf_reg': 0.28, 'learning_rate': 0.0187}. Best is trial 50 with value: 0.7760758570386579.\n"
     ]
    },
    {
     "name": "stderr",
     "output_type": "stream",
     "text": [
      "[I 2024-01-22 22:33:56,966] Trial 72 finished with value: 0.7745618044409485 and parameters: {'depth': 10, 'n_estimators': 59, 'l2_leaf_reg': 0.28, 'learning_rate': 0.0175}. Best is trial 50 with value: 0.7760758570386579.\n",
      "[I 2024-01-22 22:34:00,731] Trial 73 finished with value: 0.7744986556425816 and parameters: {'depth': 10, 'n_estimators': 70, 'l2_leaf_reg': 0.26, 'learning_rate': 0.014700000000000001}. Best is trial 50 with value: 0.7760758570386579.\n",
      "[I 2024-01-22 22:34:05,157] Trial 74 finished with value: 0.7753187810676465 and parameters: {'depth': 10, 'n_estimators': 83, 'l2_leaf_reg': 0.32, 'learning_rate': 0.022000000000000002}. Best is trial 50 with value: 0.7760758570386579.\n",
      "[I 2024-01-22 22:34:10,351] Trial 75 finished with value: 0.7680185504114184 and parameters: {'depth': 10, 'n_estimators': 97, 'l2_leaf_reg': 0.2, 'learning_rate': 0.028600000000000004}. Best is trial 50 with value: 0.7760758570386579.\n",
      "[I 2024-01-22 22:34:15,128] Trial 76 finished with value: 0.7757534261230515 and parameters: {'depth': 11, 'n_estimators': 77, 'l2_leaf_reg': 0.38, 'learning_rate': 0.0183}. Best is trial 50 with value: 0.7760758570386579.\n",
      "[I 2024-01-22 22:34:18,601] Trial 77 finished with value: 0.7758215962441314 and parameters: {'depth': 10, 'n_estimators': 58, 'l2_leaf_reg': 0.24000000000000002, 'learning_rate': 0.023700000000000002}. Best is trial 50 with value: 0.7760758570386579.\n",
      "[I 2024-01-22 22:34:22,304] Trial 78 finished with value: 0.7754471890971039 and parameters: {'depth': 10, 'n_estimators': 67, 'l2_leaf_reg': 0.28, 'learning_rate': 0.0199}. Best is trial 50 with value: 0.7760758570386579.\n",
      "[I 2024-01-22 22:34:27,501] Trial 79 finished with value: 0.775561737641772 and parameters: {'depth': 11, 'n_estimators': 88, 'l2_leaf_reg': 0.15000000000000002, 'learning_rate': 0.016300000000000002}. Best is trial 50 with value: 0.7760758570386579.\n",
      "[I 2024-01-22 22:34:30,277] Trial 80 finished with value: 0.7605970792692786 and parameters: {'depth': 10, 'n_estimators': 45, 'l2_leaf_reg': 0.35000000000000003, 'learning_rate': 0.013400000000000002}. Best is trial 50 with value: 0.7760758570386579.\n",
      "[I 2024-01-22 22:34:34,572] Trial 81 finished with value: 0.7759099139639785 and parameters: {'depth': 10, 'n_estimators': 79, 'l2_leaf_reg': 0.29000000000000004, 'learning_rate': 0.0194}. Best is trial 50 with value: 0.7760758570386579.\n",
      "[I 2024-01-22 22:34:38,544] Trial 82 finished with value: 0.7761917529090031 and parameters: {'depth': 10, 'n_estimators': 71, 'l2_leaf_reg': 0.3, 'learning_rate': 0.0216}. Best is trial 82 with value: 0.7761917529090031.\n",
      "[I 2024-01-22 22:34:42,937] Trial 83 finished with value: 0.772944534984195 and parameters: {'depth': 10, 'n_estimators': 80, 'l2_leaf_reg': 0.3, 'learning_rate': 0.024800000000000003}. Best is trial 82 with value: 0.7761917529090031.\n",
      "[I 2024-01-22 22:34:48,385] Trial 84 finished with value: 0.7705632506404356 and parameters: {'depth': 10, 'n_estimators': 105, 'l2_leaf_reg': 0.4, 'learning_rate': 0.0227}. Best is trial 82 with value: 0.7761917529090031.\n",
      "[I 2024-01-22 22:34:52,318] Trial 85 finished with value: 0.775203200136176 and parameters: {'depth': 11, 'n_estimators': 60, 'l2_leaf_reg': 0.18000000000000002, 'learning_rate': 0.021800000000000003}. Best is trial 82 with value: 0.7761917529090031.\n",
      "[I 2024-01-22 22:35:10,566] Trial 86 finished with value: 0.7752649873406858 and parameters: {'depth': 16, 'n_estimators': 54, 'l2_leaf_reg': 0.33, 'learning_rate': 0.0267}. Best is trial 82 with value: 0.7761917529090031.\n",
      "[I 2024-01-22 22:35:19,390] Trial 87 finished with value: 0.7750082447685613 and parameters: {'depth': 14, 'n_estimators': 66, 'l2_leaf_reg': 0.22, 'learning_rate': 0.0182}. Best is trial 82 with value: 0.7761917529090031.\n",
      "[I 2024-01-22 22:35:23,192] Trial 88 finished with value: 0.7748107832298665 and parameters: {'depth': 10, 'n_estimators': 69, 'l2_leaf_reg': 0.27, 'learning_rate': 0.0158}. Best is trial 82 with value: 0.7761917529090031.\n",
      "[I 2024-01-22 22:35:26,286] Trial 89 finished with value: 0.7747279001858243 and parameters: {'depth': 10, 'n_estimators': 51, 'l2_leaf_reg': 0.34, 'learning_rate': 0.019600000000000003}. Best is trial 82 with value: 0.7761917529090031.\n",
      "[I 2024-01-22 22:35:31,805] Trial 90 finished with value: 0.7700734802939211 and parameters: {'depth': 11, 'n_estimators': 86, 'l2_leaf_reg': 0.31, 'learning_rate': 0.028300000000000002}. Best is trial 82 with value: 0.7761917529090031.\n",
      "[I 2024-01-22 22:35:36,009] Trial 91 finished with value: 0.7757604440046464 and parameters: {'depth': 10, 'n_estimators': 77, 'l2_leaf_reg': 0.24000000000000002, 'learning_rate': 0.0217}. Best is trial 82 with value: 0.7761917529090031.\n",
      "[I 2024-01-22 22:35:40,115] Trial 92 finished with value: 0.7746854663774404 and parameters: {'depth': 10, 'n_estimators': 74, 'l2_leaf_reg': 0.26, 'learning_rate': 0.025300000000000003}. Best is trial 82 with value: 0.7761917529090031.\n",
      "[I 2024-01-22 22:35:44,091] Trial 93 finished with value: 0.7757978153780253 and parameters: {'depth': 10, 'n_estimators': 73, 'l2_leaf_reg': 0.19, 'learning_rate': 0.020700000000000003}. Best is trial 82 with value: 0.7761917529090031.\n",
      "[I 2024-01-22 22:35:47,738] Trial 94 finished with value: 0.7758629922777855 and parameters: {'depth': 10, 'n_estimators': 64, 'l2_leaf_reg': 0.29000000000000004, 'learning_rate': 0.024100000000000003}. Best is trial 82 with value: 0.7761917529090031.\n",
      "[I 2024-01-22 22:35:52,059] Trial 95 finished with value: 0.7751963138425596 and parameters: {'depth': 10, 'n_estimators': 81, 'l2_leaf_reg': 0.21000000000000002, 'learning_rate': 0.0229}. Best is trial 82 with value: 0.7761917529090031.\n",
      "[I 2024-01-22 22:35:56,026] Trial 96 finished with value: 0.7759363677293485 and parameters: {'depth': 10, 'n_estimators': 72, 'l2_leaf_reg': 0.09999999999999999, 'learning_rate': 0.0211}. Best is trial 82 with value: 0.7761917529090031.\n",
      "[I 2024-01-22 22:36:01,575] Trial 97 finished with value: 0.7757037483064881 and parameters: {'depth': 11, 'n_estimators': 94, 'l2_leaf_reg': 0.11, 'learning_rate': 0.017400000000000002}. Best is trial 82 with value: 0.7761917529090031.\n",
      "[I 2024-01-22 22:36:04,928] Trial 98 finished with value: 0.7759104241152669 and parameters: {'depth': 10, 'n_estimators': 57, 'l2_leaf_reg': 0.060000000000000005, 'learning_rate': 0.026000000000000002}. Best is trial 82 with value: 0.7761917529090031.\n",
      "[I 2024-01-22 22:36:08,300] Trial 99 finished with value: 0.7760681191010512 and parameters: {'depth': 10, 'n_estimators': 58, 'l2_leaf_reg': 0.060000000000000005, 'learning_rate': 0.027500000000000004}. Best is trial 82 with value: 0.7761917529090031.\n"
     ]
    }
   ],
   "source": [
    "study = optuna.create_study(direction='maximize')\n",
    "study.optimize(objective_gpu, n_trials=100)"
   ]
  },
  {
   "cell_type": "markdown",
   "id": "524a237e",
   "metadata": {},
   "source": [
    "## Обучение и сохранение модели с наилучшими показателями"
   ]
  },
  {
   "cell_type": "code",
   "execution_count": 16,
   "id": "11bfbd93",
   "metadata": {},
   "outputs": [
    {
     "data": {
      "text/plain": [
       "<catboost.core.CatBoostClassifier at 0x1d9a51deee0>"
      ]
     },
     "execution_count": 16,
     "metadata": {},
     "output_type": "execute_result"
    }
   ],
   "source": [
    "best_model = CatBoostClassifier(**study.best_params)\n",
    "best_model.fit(X, y, verbose=0)\n"
   ]
  },
  {
   "cell_type": "code",
   "execution_count": 18,
   "id": "f008a705",
   "metadata": {},
   "outputs": [],
   "source": [
    "best_model.save_model('../data/best_CatBoost', format=\"cbm\")"
   ]
  },
  {
   "cell_type": "markdown",
   "id": "e91d7e00",
   "metadata": {},
   "source": [
    "## Проверка работы модели"
   ]
  },
  {
   "cell_type": "code",
   "execution_count": 19,
   "id": "2be19604",
   "metadata": {},
   "outputs": [],
   "source": [
    "load_model = CatBoostClassifier().load_model(\"../data/best_CatBoost\", format='cbm')"
   ]
  },
  {
   "cell_type": "code",
   "execution_count": 20,
   "id": "67c78ceb",
   "metadata": {},
   "outputs": [
    {
     "data": {
      "text/plain": [
       "0.7656276633220078"
      ]
     },
     "execution_count": 20,
     "metadata": {},
     "output_type": "execute_result"
    }
   ],
   "source": [
    "pred_load = load_model.predict(X)\n",
    "f1_score(y, pred_load)"
   ]
  }
 ],
 "metadata": {
  "kernelspec": {
   "display_name": "Python 3 (ipykernel)",
   "language": "python",
   "name": "python3"
  },
  "language_info": {
   "codemirror_mode": {
    "name": "ipython",
    "version": 3
   },
   "file_extension": ".py",
   "mimetype": "text/x-python",
   "name": "python",
   "nbconvert_exporter": "python",
   "pygments_lexer": "ipython3",
   "version": "3.9.13"
  }
 },
 "nbformat": 4,
 "nbformat_minor": 5
}
